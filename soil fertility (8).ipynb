{
 "cells": [
  {
   "cell_type": "code",
   "execution_count": 220,
   "metadata": {},
   "outputs": [],
   "source": [
    "import pandas as pd\n",
    "import numpy as np\n",
    "import matplotlib.pyplot as plt\n",
    "%matplotlib inline \n",
    "from sklearn.ensemble import RandomForestClassifier\n",
    "import warnings\n",
    "### model evaluation\n",
    "from sklearn.model_selection import train_test_split, cross_val_score, cross_val_predict\n",
    "from sklearn.model_selection import GridSearchCV\n",
    "from sklearn.metrics import confusion_matrix, classification_report\n",
    "from sklearn.metrics import precision_score, recall_score, f1_score\n"
   ]
  },
  {
   "cell_type": "code",
   "execution_count": 221,
   "metadata": {},
   "outputs": [],
   "source": [
    "warnings.filterwarnings('ignore')"
   ]
  },
  {
   "cell_type": "code",
   "execution_count": 222,
   "metadata": {},
   "outputs": [],
   "source": [
    "df = pd.read_csv(\"AnyConv.com__soil_types[2] (1).csv\")"
   ]
  },
  {
   "cell_type": "code",
   "execution_count": 223,
   "metadata": {},
   "outputs": [
    {
     "data": {
      "text/html": [
       "<div>\n",
       "<style scoped>\n",
       "    .dataframe tbody tr th:only-of-type {\n",
       "        vertical-align: middle;\n",
       "    }\n",
       "\n",
       "    .dataframe tbody tr th {\n",
       "        vertical-align: top;\n",
       "    }\n",
       "\n",
       "    .dataframe thead th {\n",
       "        text-align: right;\n",
       "    }\n",
       "</style>\n",
       "<table border=\"1\" class=\"dataframe\">\n",
       "  <thead>\n",
       "    <tr style=\"text-align: right;\">\n",
       "      <th></th>\n",
       "      <th>ID,N,8,0</th>\n",
       "      <th>MAPPING_UN,C,16</th>\n",
       "      <th>GEOLOGY,C,80</th>\n",
       "      <th>SLOPE,C,30</th>\n",
       "      <th>ECOLOGICAL,C,50</th>\n",
       "      <th>DRAINAGE,C,70</th>\n",
       "      <th>SOIL_PH,C,30</th>\n",
       "      <th>PH_DESCRIP,C,50</th>\n",
       "      <th>SUITABILIT,C,70</th>\n",
       "      <th>SOIL_TEXTU,C,50</th>\n",
       "      <th>SOIL_CLASS,C,50</th>\n",
       "      <th>VEGETATION,C,120</th>\n",
       "      <th>DISTRIBUTI,C,50</th>\n",
       "      <th>SOIL_CLA_1,C,50</th>\n",
       "      <th>PERCENTAGE,C,50</th>\n",
       "      <th>MAJOR_CROP,C,120</th>\n",
       "      <th>Depth,C,50</th>\n",
       "    </tr>\n",
       "  </thead>\n",
       "  <tbody>\n",
       "    <tr>\n",
       "      <th>0</th>\n",
       "      <td>1</td>\n",
       "      <td>15e</td>\n",
       "      <td>Nupe Sandstone</td>\n",
       "      <td>0 - 2%</td>\n",
       "      <td>Savannah Soils</td>\n",
       "      <td>Well Drained</td>\n",
       "      <td>6.2 - 6.2</td>\n",
       "      <td>Slightly Acidic</td>\n",
       "      <td>Fairly Higly Suitable with few physical limita...</td>\n",
       "      <td>Sandy Clay</td>\n",
       "      <td>Ustoxic Dystropept</td>\n",
       "      <td>Savanna woodland with scattered trees cultivat...</td>\n",
       "      <td>41,647.21</td>\n",
       "      <td>Dystric Cambisol</td>\n",
       "      <td>4.51</td>\n",
       "      <td>Sorghum,Maize,Yam,Cassava,Millet,Upland rice</td>\n",
       "      <td>Deep, Mostly Deep</td>\n",
       "    </tr>\n",
       "    <tr>\n",
       "      <th>1</th>\n",
       "      <td>2</td>\n",
       "      <td>22a</td>\n",
       "      <td>Sandstone</td>\n",
       "      <td>0 - 13%</td>\n",
       "      <td>Savannah Soils</td>\n",
       "      <td>Shallow Drained</td>\n",
       "      <td>6.2 - 6.2</td>\n",
       "      <td>Slightly Acidic</td>\n",
       "      <td>Marginally Suitable</td>\n",
       "      <td>Sandy Loam</td>\n",
       "      <td>Typic Hapleustalf</td>\n",
       "      <td>Sorghum, maize, Millet, Yam</td>\n",
       "      <td>4,716.39</td>\n",
       "      <td>Orthic Acrisol</td>\n",
       "      <td>0.51</td>\n",
       "      <td>Sorghum,Maize,Yam,Cassava,Millet,Upland rice.</td>\n",
       "      <td>Shallow</td>\n",
       "    </tr>\n",
       "    <tr>\n",
       "      <th>2</th>\n",
       "      <td>3</td>\n",
       "      <td>2a</td>\n",
       "      <td>Recent Alluvium</td>\n",
       "      <td>0 - 2%</td>\n",
       "      <td>Wet Land Soils</td>\n",
       "      <td>Poorly Drained</td>\n",
       "      <td>5.9 - 4.9</td>\n",
       "      <td>Very Strongly Acidic</td>\n",
       "      <td>Moderately Suitable</td>\n",
       "      <td>Sandy Loam</td>\n",
       "      <td>Typic Tropaquept</td>\n",
       "      <td>Grassland</td>\n",
       "      <td>76,515.95</td>\n",
       "      <td>Gleyic Acrisol</td>\n",
       "      <td>8.28</td>\n",
       "      <td>Yam, Rice,Maize, Millet,Irish Potatoes</td>\n",
       "      <td>Deep, Mostly Deep</td>\n",
       "    </tr>\n",
       "    <tr>\n",
       "      <th>3</th>\n",
       "      <td>5</td>\n",
       "      <td>24b</td>\n",
       "      <td>Undifferentiated Basement Complex</td>\n",
       "      <td>13 - 55%</td>\n",
       "      <td>Savannah Soils</td>\n",
       "      <td>Well Drained</td>\n",
       "      <td>5.1 - 6.6</td>\n",
       "      <td>Strogly acidic to Slightly Acidic</td>\n",
       "      <td>Currently Not Suitable</td>\n",
       "      <td>Sandy Clay</td>\n",
       "      <td>Typic Tropaquent</td>\n",
       "      <td>Grassland</td>\n",
       "      <td>40,620.47</td>\n",
       "      <td>Gleyic Cambisol</td>\n",
       "      <td>4.40</td>\n",
       "      <td>Sorghum,Millet,Cowpea,Cotton,G.nuts,Beans,Maiz...</td>\n",
       "      <td>Shallow</td>\n",
       "    </tr>\n",
       "    <tr>\n",
       "      <th>4</th>\n",
       "      <td>4</td>\n",
       "      <td>2a</td>\n",
       "      <td>Recent Alluvium</td>\n",
       "      <td>0 - 2%</td>\n",
       "      <td>Wet Land Soils</td>\n",
       "      <td>Poorly Drained</td>\n",
       "      <td>5.9 - 4.9</td>\n",
       "      <td>Very Strongly Acidic</td>\n",
       "      <td>Moderately Suitable</td>\n",
       "      <td>Sandy Loam</td>\n",
       "      <td>Typic Ustifluvent</td>\n",
       "      <td>Cultivated to swamp rice and oil palm</td>\n",
       "      <td>76,515.95</td>\n",
       "      <td>Eutric Fluvisol</td>\n",
       "      <td>8.28</td>\n",
       "      <td>Yam, Rice,Maize, Millet,Irish Potatoes</td>\n",
       "      <td>Deep, Mostly Deep</td>\n",
       "    </tr>\n",
       "    <tr>\n",
       "      <th>...</th>\n",
       "      <td>...</td>\n",
       "      <td>...</td>\n",
       "      <td>...</td>\n",
       "      <td>...</td>\n",
       "      <td>...</td>\n",
       "      <td>...</td>\n",
       "      <td>...</td>\n",
       "      <td>...</td>\n",
       "      <td>...</td>\n",
       "      <td>...</td>\n",
       "      <td>...</td>\n",
       "      <td>...</td>\n",
       "      <td>...</td>\n",
       "      <td>...</td>\n",
       "      <td>...</td>\n",
       "      <td>...</td>\n",
       "      <td>...</td>\n",
       "    </tr>\n",
       "    <tr>\n",
       "      <th>653</th>\n",
       "      <td>667</td>\n",
       "      <td>1c</td>\n",
       "      <td>Beach ridge sands and mounds</td>\n",
       "      <td>0 - 2%</td>\n",
       "      <td>Wet Land Soils</td>\n",
       "      <td>Poorly Drained</td>\n",
       "      <td>5.0 - 5.5</td>\n",
       "      <td>Very Strongly Acidic</td>\n",
       "      <td>Moderately Suitable</td>\n",
       "      <td>Sandy</td>\n",
       "      <td>Typic Tropaquent</td>\n",
       "      <td>Bush Fallow</td>\n",
       "      <td>1,772.15</td>\n",
       "      <td>Dystric Regosol</td>\n",
       "      <td>0.19</td>\n",
       "      <td>Yam,Rice,Cassava,Plantain,Banana,Cocoa,OilPalm...</td>\n",
       "      <td>Deep, Mostly Deep</td>\n",
       "    </tr>\n",
       "    <tr>\n",
       "      <th>654</th>\n",
       "      <td>668</td>\n",
       "      <td>1c</td>\n",
       "      <td>Beach ridge sands and mounds</td>\n",
       "      <td>0 - 2%</td>\n",
       "      <td>Wet Land Soils</td>\n",
       "      <td>Poorly Drained</td>\n",
       "      <td>5.0 - 5.5</td>\n",
       "      <td>Very Strongly Acidic</td>\n",
       "      <td>Moderately Suitable</td>\n",
       "      <td>Sandy</td>\n",
       "      <td>Typic Psammaquent</td>\n",
       "      <td>Bush Fallow</td>\n",
       "      <td>1,772.15</td>\n",
       "      <td>Gleyic Regosol</td>\n",
       "      <td>0.19</td>\n",
       "      <td>Yam,Rice,Cassava,Plantain,Banana,Cocoa,OilPalm...</td>\n",
       "      <td>Deep, Mostly Deep</td>\n",
       "    </tr>\n",
       "    <tr>\n",
       "      <th>655</th>\n",
       "      <td>669</td>\n",
       "      <td>1c</td>\n",
       "      <td>Beach ridge sands and mounds</td>\n",
       "      <td>0 - 2%</td>\n",
       "      <td>Wet Land Soils</td>\n",
       "      <td>Poorly Drained</td>\n",
       "      <td>5.0 - 5.5</td>\n",
       "      <td>Very Strongly Acidic</td>\n",
       "      <td>Moderately Suitable</td>\n",
       "      <td>Sandy</td>\n",
       "      <td>Typic Psammaquent</td>\n",
       "      <td>Coconut, Cassava</td>\n",
       "      <td>1,772.15</td>\n",
       "      <td>Dystric Regosol</td>\n",
       "      <td>0.19</td>\n",
       "      <td>Yam,Rice,Cassava,Plantain,Banana,Cocoa,OilPalm...</td>\n",
       "      <td>Deep, Mostly Deep</td>\n",
       "    </tr>\n",
       "    <tr>\n",
       "      <th>656</th>\n",
       "      <td>670</td>\n",
       "      <td>3a</td>\n",
       "      <td>Aeolian sand over alluvium</td>\n",
       "      <td>0 - 2%</td>\n",
       "      <td>Wet Land Soils</td>\n",
       "      <td>Poorly Drained</td>\n",
       "      <td>7.0 - 8.4</td>\n",
       "      <td>Neutral to Moderately Alkaline</td>\n",
       "      <td>Moderately Suitable</td>\n",
       "      <td>Sandy Loam</td>\n",
       "      <td>Typic Ustipsamment</td>\n",
       "      <td>Groundnut,Sorghum,Cotton,Maize,Millet,Cowpea</td>\n",
       "      <td>6,611.38</td>\n",
       "      <td>Gleyic Cambisol</td>\n",
       "      <td>0.72</td>\n",
       "      <td>Groundnut,Sorghum,Cotton,Maize,Millet,Cowpea</td>\n",
       "      <td>Deep, Mostly Deep</td>\n",
       "    </tr>\n",
       "    <tr>\n",
       "      <th>657</th>\n",
       "      <td>671</td>\n",
       "      <td>15c</td>\n",
       "      <td>Sand dumes over Sandstone and chad sediment an...</td>\n",
       "      <td>0 - 2%</td>\n",
       "      <td>Savannah Soils</td>\n",
       "      <td>Moderately Drained</td>\n",
       "      <td>5.9 - 6.3</td>\n",
       "      <td>Moderately Acidic</td>\n",
       "      <td>Fairly Higly Suitable with few physical limita...</td>\n",
       "      <td>Sandy Loam</td>\n",
       "      <td>Aquic Arenic Haplustalf</td>\n",
       "      <td>Savanna woodland cultivated to Millet, beans, ...</td>\n",
       "      <td>5,102.14</td>\n",
       "      <td>Orthic Luvisol</td>\n",
       "      <td>0.55</td>\n",
       "      <td>Groundnut,Millet,Cotton,Tobacco,Vegetables</td>\n",
       "      <td>Very Deep</td>\n",
       "    </tr>\n",
       "  </tbody>\n",
       "</table>\n",
       "<p>658 rows × 17 columns</p>\n",
       "</div>"
      ],
      "text/plain": [
       "     ID,N,8,0 MAPPING_UN,C,16  \\\n",
       "0           1             15e   \n",
       "1           2             22a   \n",
       "2           3              2a   \n",
       "3           5             24b   \n",
       "4           4              2a   \n",
       "..        ...             ...   \n",
       "653       667              1c   \n",
       "654       668              1c   \n",
       "655       669              1c   \n",
       "656       670              3a   \n",
       "657       671             15c   \n",
       "\n",
       "                                          GEOLOGY,C,80 SLOPE,C,30  \\\n",
       "0                                       Nupe Sandstone     0 - 2%   \n",
       "1                                            Sandstone    0 - 13%   \n",
       "2                                      Recent Alluvium     0 - 2%   \n",
       "3                    Undifferentiated Basement Complex   13 - 55%   \n",
       "4                                      Recent Alluvium     0 - 2%   \n",
       "..                                                 ...        ...   \n",
       "653                       Beach ridge sands and mounds     0 - 2%   \n",
       "654                       Beach ridge sands and mounds     0 - 2%   \n",
       "655                       Beach ridge sands and mounds     0 - 2%   \n",
       "656                         Aeolian sand over alluvium     0 - 2%   \n",
       "657  Sand dumes over Sandstone and chad sediment an...     0 - 2%   \n",
       "\n",
       "    ECOLOGICAL,C,50       DRAINAGE,C,70 SOIL_PH,C,30  \\\n",
       "0    Savannah Soils        Well Drained    6.2 - 6.2   \n",
       "1    Savannah Soils     Shallow Drained    6.2 - 6.2   \n",
       "2    Wet Land Soils      Poorly Drained    5.9 - 4.9   \n",
       "3    Savannah Soils        Well Drained    5.1 - 6.6   \n",
       "4    Wet Land Soils      Poorly Drained    5.9 - 4.9   \n",
       "..              ...                 ...          ...   \n",
       "653  Wet Land Soils      Poorly Drained    5.0 - 5.5   \n",
       "654  Wet Land Soils      Poorly Drained    5.0 - 5.5   \n",
       "655  Wet Land Soils      Poorly Drained    5.0 - 5.5   \n",
       "656  Wet Land Soils      Poorly Drained    7.0 - 8.4   \n",
       "657  Savannah Soils  Moderately Drained    5.9 - 6.3   \n",
       "\n",
       "                       PH_DESCRIP,C,50  \\\n",
       "0                      Slightly Acidic   \n",
       "1                      Slightly Acidic   \n",
       "2                 Very Strongly Acidic   \n",
       "3    Strogly acidic to Slightly Acidic   \n",
       "4                 Very Strongly Acidic   \n",
       "..                                 ...   \n",
       "653               Very Strongly Acidic   \n",
       "654               Very Strongly Acidic   \n",
       "655               Very Strongly Acidic   \n",
       "656     Neutral to Moderately Alkaline   \n",
       "657                  Moderately Acidic   \n",
       "\n",
       "                                       SUITABILIT,C,70 SOIL_TEXTU,C,50  \\\n",
       "0    Fairly Higly Suitable with few physical limita...      Sandy Clay   \n",
       "1                                  Marginally Suitable      Sandy Loam   \n",
       "2                                  Moderately Suitable      Sandy Loam   \n",
       "3                               Currently Not Suitable      Sandy Clay   \n",
       "4                                  Moderately Suitable      Sandy Loam   \n",
       "..                                                 ...             ...   \n",
       "653                                Moderately Suitable           Sandy   \n",
       "654                                Moderately Suitable           Sandy   \n",
       "655                                Moderately Suitable           Sandy   \n",
       "656                                Moderately Suitable      Sandy Loam   \n",
       "657  Fairly Higly Suitable with few physical limita...      Sandy Loam   \n",
       "\n",
       "             SOIL_CLASS,C,50  \\\n",
       "0         Ustoxic Dystropept   \n",
       "1          Typic Hapleustalf   \n",
       "2           Typic Tropaquept   \n",
       "3           Typic Tropaquent   \n",
       "4          Typic Ustifluvent   \n",
       "..                       ...   \n",
       "653         Typic Tropaquent   \n",
       "654        Typic Psammaquent   \n",
       "655        Typic Psammaquent   \n",
       "656       Typic Ustipsamment   \n",
       "657  Aquic Arenic Haplustalf   \n",
       "\n",
       "                                      VEGETATION,C,120 DISTRIBUTI,C,50  \\\n",
       "0    Savanna woodland with scattered trees cultivat...       41,647.21   \n",
       "1                          Sorghum, maize, Millet, Yam        4,716.39   \n",
       "2                                            Grassland       76,515.95   \n",
       "3                                            Grassland       40,620.47   \n",
       "4                Cultivated to swamp rice and oil palm       76,515.95   \n",
       "..                                                 ...             ...   \n",
       "653                                        Bush Fallow        1,772.15   \n",
       "654                                        Bush Fallow        1,772.15   \n",
       "655                                   Coconut, Cassava        1,772.15   \n",
       "656       Groundnut,Sorghum,Cotton,Maize,Millet,Cowpea        6,611.38   \n",
       "657  Savanna woodland cultivated to Millet, beans, ...        5,102.14   \n",
       "\n",
       "      SOIL_CLA_1,C,50  PERCENTAGE,C,50  \\\n",
       "0    Dystric Cambisol             4.51   \n",
       "1      Orthic Acrisol             0.51   \n",
       "2      Gleyic Acrisol             8.28   \n",
       "3     Gleyic Cambisol             4.40   \n",
       "4     Eutric Fluvisol             8.28   \n",
       "..                ...              ...   \n",
       "653   Dystric Regosol             0.19   \n",
       "654    Gleyic Regosol             0.19   \n",
       "655   Dystric Regosol             0.19   \n",
       "656   Gleyic Cambisol             0.72   \n",
       "657    Orthic Luvisol             0.55   \n",
       "\n",
       "                                      MAJOR_CROP,C,120         Depth,C,50  \n",
       "0         Sorghum,Maize,Yam,Cassava,Millet,Upland rice  Deep, Mostly Deep  \n",
       "1        Sorghum,Maize,Yam,Cassava,Millet,Upland rice.            Shallow  \n",
       "2               Yam, Rice,Maize, Millet,Irish Potatoes  Deep, Mostly Deep  \n",
       "3    Sorghum,Millet,Cowpea,Cotton,G.nuts,Beans,Maiz...            Shallow  \n",
       "4               Yam, Rice,Maize, Millet,Irish Potatoes  Deep, Mostly Deep  \n",
       "..                                                 ...                ...  \n",
       "653  Yam,Rice,Cassava,Plantain,Banana,Cocoa,OilPalm...  Deep, Mostly Deep  \n",
       "654  Yam,Rice,Cassava,Plantain,Banana,Cocoa,OilPalm...  Deep, Mostly Deep  \n",
       "655  Yam,Rice,Cassava,Plantain,Banana,Cocoa,OilPalm...  Deep, Mostly Deep  \n",
       "656       Groundnut,Sorghum,Cotton,Maize,Millet,Cowpea  Deep, Mostly Deep  \n",
       "657         Groundnut,Millet,Cotton,Tobacco,Vegetables          Very Deep  \n",
       "\n",
       "[658 rows x 17 columns]"
      ]
     },
     "execution_count": 223,
     "metadata": {},
     "output_type": "execute_result"
    }
   ],
   "source": [
    "df"
   ]
  },
  {
   "cell_type": "code",
   "execution_count": 224,
   "metadata": {},
   "outputs": [
    {
     "data": {
      "text/plain": [
       "Index(['ID,N,8,0', 'MAPPING_UN,C,16', 'GEOLOGY,C,80', 'SLOPE,C,30',\n",
       "       'ECOLOGICAL,C,50', 'DRAINAGE,C,70', 'SOIL_PH,C,30', 'PH_DESCRIP,C,50',\n",
       "       'SUITABILIT,C,70', 'SOIL_TEXTU,C,50', 'SOIL_CLASS,C,50',\n",
       "       'VEGETATION,C,120', 'DISTRIBUTI,C,50', 'SOIL_CLA_1,C,50',\n",
       "       'PERCENTAGE,C,50', 'MAJOR_CROP,C,120', 'Depth,C,50'],\n",
       "      dtype='object')"
      ]
     },
     "execution_count": 224,
     "metadata": {},
     "output_type": "execute_result"
    }
   ],
   "source": [
    "df.columns"
   ]
  },
  {
   "cell_type": "code",
   "execution_count": 225,
   "metadata": {},
   "outputs": [
    {
     "data": {
      "text/html": [
       "<div>\n",
       "<style scoped>\n",
       "    .dataframe tbody tr th:only-of-type {\n",
       "        vertical-align: middle;\n",
       "    }\n",
       "\n",
       "    .dataframe tbody tr th {\n",
       "        vertical-align: top;\n",
       "    }\n",
       "\n",
       "    .dataframe thead th {\n",
       "        text-align: right;\n",
       "    }\n",
       "</style>\n",
       "<table border=\"1\" class=\"dataframe\">\n",
       "  <thead>\n",
       "    <tr style=\"text-align: right;\">\n",
       "      <th></th>\n",
       "      <th>ID,N,8,0</th>\n",
       "      <th>MAPPING_UN,C,16</th>\n",
       "      <th>GEOLOGY,C,80</th>\n",
       "      <th>SLOPE,C,30</th>\n",
       "      <th>ECOLOGICAL,C,50</th>\n",
       "      <th>DRAINAGE,C,70</th>\n",
       "      <th>SOIL_PH,C,30</th>\n",
       "      <th>PH_DESCRIP,C,50</th>\n",
       "      <th>SUITABILIT,C,70</th>\n",
       "      <th>SOIL_TEXTU,C,50</th>\n",
       "      <th>SOIL_CLASS,C,50</th>\n",
       "      <th>VEGETATION,C,120</th>\n",
       "      <th>DISTRIBUTI,C,50</th>\n",
       "      <th>SOIL_CLA_1,C,50</th>\n",
       "      <th>PERCENTAGE,C,50</th>\n",
       "      <th>MAJOR_CROP,C,120</th>\n",
       "      <th>Depth,C,50</th>\n",
       "    </tr>\n",
       "  </thead>\n",
       "  <tbody>\n",
       "    <tr>\n",
       "      <th>0</th>\n",
       "      <td>1</td>\n",
       "      <td>15e</td>\n",
       "      <td>Nupe Sandstone</td>\n",
       "      <td>0 - 2%</td>\n",
       "      <td>Savannah Soils</td>\n",
       "      <td>Well Drained</td>\n",
       "      <td>6.2 - 6.2</td>\n",
       "      <td>Slightly Acidic</td>\n",
       "      <td>Fairly Higly Suitable with few physical limita...</td>\n",
       "      <td>Sandy Clay</td>\n",
       "      <td>Ustoxic Dystropept</td>\n",
       "      <td>Savanna woodland with scattered trees cultivat...</td>\n",
       "      <td>41,647.21</td>\n",
       "      <td>Dystric Cambisol</td>\n",
       "      <td>4.51</td>\n",
       "      <td>Sorghum,Maize,Yam,Cassava,Millet,Upland rice</td>\n",
       "      <td>Deep, Mostly Deep</td>\n",
       "    </tr>\n",
       "    <tr>\n",
       "      <th>1</th>\n",
       "      <td>2</td>\n",
       "      <td>22a</td>\n",
       "      <td>Sandstone</td>\n",
       "      <td>0 - 13%</td>\n",
       "      <td>Savannah Soils</td>\n",
       "      <td>Shallow Drained</td>\n",
       "      <td>6.2 - 6.2</td>\n",
       "      <td>Slightly Acidic</td>\n",
       "      <td>Marginally Suitable</td>\n",
       "      <td>Sandy Loam</td>\n",
       "      <td>Typic Hapleustalf</td>\n",
       "      <td>Sorghum, maize, Millet, Yam</td>\n",
       "      <td>4,716.39</td>\n",
       "      <td>Orthic Acrisol</td>\n",
       "      <td>0.51</td>\n",
       "      <td>Sorghum,Maize,Yam,Cassava,Millet,Upland rice.</td>\n",
       "      <td>Shallow</td>\n",
       "    </tr>\n",
       "    <tr>\n",
       "      <th>2</th>\n",
       "      <td>3</td>\n",
       "      <td>2a</td>\n",
       "      <td>Recent Alluvium</td>\n",
       "      <td>0 - 2%</td>\n",
       "      <td>Wet Land Soils</td>\n",
       "      <td>Poorly Drained</td>\n",
       "      <td>5.9 - 4.9</td>\n",
       "      <td>Very Strongly Acidic</td>\n",
       "      <td>Moderately Suitable</td>\n",
       "      <td>Sandy Loam</td>\n",
       "      <td>Typic Tropaquept</td>\n",
       "      <td>Grassland</td>\n",
       "      <td>76,515.95</td>\n",
       "      <td>Gleyic Acrisol</td>\n",
       "      <td>8.28</td>\n",
       "      <td>Yam, Rice,Maize, Millet,Irish Potatoes</td>\n",
       "      <td>Deep, Mostly Deep</td>\n",
       "    </tr>\n",
       "    <tr>\n",
       "      <th>3</th>\n",
       "      <td>5</td>\n",
       "      <td>24b</td>\n",
       "      <td>Undifferentiated Basement Complex</td>\n",
       "      <td>13 - 55%</td>\n",
       "      <td>Savannah Soils</td>\n",
       "      <td>Well Drained</td>\n",
       "      <td>5.1 - 6.6</td>\n",
       "      <td>Strogly acidic to Slightly Acidic</td>\n",
       "      <td>Currently Not Suitable</td>\n",
       "      <td>Sandy Clay</td>\n",
       "      <td>Typic Tropaquent</td>\n",
       "      <td>Grassland</td>\n",
       "      <td>40,620.47</td>\n",
       "      <td>Gleyic Cambisol</td>\n",
       "      <td>4.40</td>\n",
       "      <td>Sorghum,Millet,Cowpea,Cotton,G.nuts,Beans,Maiz...</td>\n",
       "      <td>Shallow</td>\n",
       "    </tr>\n",
       "    <tr>\n",
       "      <th>4</th>\n",
       "      <td>4</td>\n",
       "      <td>2a</td>\n",
       "      <td>Recent Alluvium</td>\n",
       "      <td>0 - 2%</td>\n",
       "      <td>Wet Land Soils</td>\n",
       "      <td>Poorly Drained</td>\n",
       "      <td>5.9 - 4.9</td>\n",
       "      <td>Very Strongly Acidic</td>\n",
       "      <td>Moderately Suitable</td>\n",
       "      <td>Sandy Loam</td>\n",
       "      <td>Typic Ustifluvent</td>\n",
       "      <td>Cultivated to swamp rice and oil palm</td>\n",
       "      <td>76,515.95</td>\n",
       "      <td>Eutric Fluvisol</td>\n",
       "      <td>8.28</td>\n",
       "      <td>Yam, Rice,Maize, Millet,Irish Potatoes</td>\n",
       "      <td>Deep, Mostly Deep</td>\n",
       "    </tr>\n",
       "  </tbody>\n",
       "</table>\n",
       "</div>"
      ],
      "text/plain": [
       "   ID,N,8,0 MAPPING_UN,C,16                       GEOLOGY,C,80 SLOPE,C,30  \\\n",
       "0         1             15e                     Nupe Sandstone     0 - 2%   \n",
       "1         2             22a                          Sandstone    0 - 13%   \n",
       "2         3              2a                    Recent Alluvium     0 - 2%   \n",
       "3         5             24b  Undifferentiated Basement Complex   13 - 55%   \n",
       "4         4              2a                    Recent Alluvium     0 - 2%   \n",
       "\n",
       "  ECOLOGICAL,C,50    DRAINAGE,C,70 SOIL_PH,C,30  \\\n",
       "0  Savannah Soils     Well Drained    6.2 - 6.2   \n",
       "1  Savannah Soils  Shallow Drained    6.2 - 6.2   \n",
       "2  Wet Land Soils   Poorly Drained    5.9 - 4.9   \n",
       "3  Savannah Soils     Well Drained    5.1 - 6.6   \n",
       "4  Wet Land Soils   Poorly Drained    5.9 - 4.9   \n",
       "\n",
       "                     PH_DESCRIP,C,50  \\\n",
       "0                    Slightly Acidic   \n",
       "1                    Slightly Acidic   \n",
       "2               Very Strongly Acidic   \n",
       "3  Strogly acidic to Slightly Acidic   \n",
       "4               Very Strongly Acidic   \n",
       "\n",
       "                                     SUITABILIT,C,70 SOIL_TEXTU,C,50  \\\n",
       "0  Fairly Higly Suitable with few physical limita...      Sandy Clay   \n",
       "1                                Marginally Suitable      Sandy Loam   \n",
       "2                                Moderately Suitable      Sandy Loam   \n",
       "3                             Currently Not Suitable      Sandy Clay   \n",
       "4                                Moderately Suitable      Sandy Loam   \n",
       "\n",
       "      SOIL_CLASS,C,50                                   VEGETATION,C,120  \\\n",
       "0  Ustoxic Dystropept  Savanna woodland with scattered trees cultivat...   \n",
       "1   Typic Hapleustalf                        Sorghum, maize, Millet, Yam   \n",
       "2    Typic Tropaquept                                          Grassland   \n",
       "3    Typic Tropaquent                                          Grassland   \n",
       "4   Typic Ustifluvent              Cultivated to swamp rice and oil palm   \n",
       "\n",
       "  DISTRIBUTI,C,50   SOIL_CLA_1,C,50  PERCENTAGE,C,50  \\\n",
       "0       41,647.21  Dystric Cambisol             4.51   \n",
       "1        4,716.39    Orthic Acrisol             0.51   \n",
       "2       76,515.95    Gleyic Acrisol             8.28   \n",
       "3       40,620.47   Gleyic Cambisol             4.40   \n",
       "4       76,515.95   Eutric Fluvisol             8.28   \n",
       "\n",
       "                                    MAJOR_CROP,C,120         Depth,C,50  \n",
       "0       Sorghum,Maize,Yam,Cassava,Millet,Upland rice  Deep, Mostly Deep  \n",
       "1      Sorghum,Maize,Yam,Cassava,Millet,Upland rice.            Shallow  \n",
       "2             Yam, Rice,Maize, Millet,Irish Potatoes  Deep, Mostly Deep  \n",
       "3  Sorghum,Millet,Cowpea,Cotton,G.nuts,Beans,Maiz...            Shallow  \n",
       "4             Yam, Rice,Maize, Millet,Irish Potatoes  Deep, Mostly Deep  "
      ]
     },
     "execution_count": 225,
     "metadata": {},
     "output_type": "execute_result"
    }
   ],
   "source": [
    "df.head()"
   ]
  },
  {
   "cell_type": "code",
   "execution_count": 226,
   "metadata": {},
   "outputs": [
    {
     "name": "stdout",
     "output_type": "stream",
     "text": [
      "<class 'pandas.core.frame.DataFrame'>\n",
      "RangeIndex: 658 entries, 0 to 657\n",
      "Data columns (total 17 columns):\n",
      " #   Column            Non-Null Count  Dtype  \n",
      "---  ------            --------------  -----  \n",
      " 0   ID,N,8,0          658 non-null    int64  \n",
      " 1   MAPPING_UN,C,16   658 non-null    object \n",
      " 2   GEOLOGY,C,80      658 non-null    object \n",
      " 3   SLOPE,C,30        658 non-null    object \n",
      " 4   ECOLOGICAL,C,50   658 non-null    object \n",
      " 5   DRAINAGE,C,70     658 non-null    object \n",
      " 6   SOIL_PH,C,30      658 non-null    object \n",
      " 7   PH_DESCRIP,C,50   658 non-null    object \n",
      " 8   SUITABILIT,C,70   658 non-null    object \n",
      " 9   SOIL_TEXTU,C,50   658 non-null    object \n",
      " 10  SOIL_CLASS,C,50   658 non-null    object \n",
      " 11  VEGETATION,C,120  658 non-null    object \n",
      " 12  DISTRIBUTI,C,50   658 non-null    object \n",
      " 13  SOIL_CLA_1,C,50   658 non-null    object \n",
      " 14  PERCENTAGE,C,50   658 non-null    float64\n",
      " 15  MAJOR_CROP,C,120  658 non-null    object \n",
      " 16  Depth,C,50        658 non-null    object \n",
      "dtypes: float64(1), int64(1), object(15)\n",
      "memory usage: 87.5+ KB\n"
     ]
    }
   ],
   "source": [
    "df.info()"
   ]
  },
  {
   "cell_type": "code",
   "execution_count": 227,
   "metadata": {},
   "outputs": [
    {
     "data": {
      "text/plain": [
       "0        1\n",
       "1        2\n",
       "2        3\n",
       "3        5\n",
       "4        4\n",
       "      ... \n",
       "653    667\n",
       "654    668\n",
       "655    669\n",
       "656    670\n",
       "657    671\n",
       "Name: ID,N,8,0, Length: 658, dtype: int64"
      ]
     },
     "execution_count": 227,
     "metadata": {},
     "output_type": "execute_result"
    }
   ],
   "source": [
    "df[\"ID,N,8,0\"]"
   ]
  },
  {
   "cell_type": "code",
   "execution_count": 228,
   "metadata": {},
   "outputs": [
    {
     "data": {
      "text/plain": [
       "24b    89\n",
       "18d    47\n",
       "2a     42\n",
       "15g    34\n",
       "15d    31\n",
       "24a    29\n",
       "22c    26\n",
       "21c    25\n",
       "1b     23\n",
       "3a     20\n",
       "1c     19\n",
       "17a    15\n",
       "19a    15\n",
       "21a    14\n",
       "11a    13\n",
       "15e    13\n",
       "2b     13\n",
       "12a    12\n",
       "7c     10\n",
       "13a    10\n",
       "15c    10\n",
       "15a     8\n",
       "8a      8\n",
       "21b     8\n",
       "18a     8\n",
       "1a      8\n",
       "22a     7\n",
       "18b     7\n",
       "22b     6\n",
       "20b     5\n",
       "20a     5\n",
       "2c      5\n",
       "14a     5\n",
       "7a      5\n",
       "15f     5\n",
       "6a      5\n",
       "5d      4\n",
       "9a      4\n",
       "5c      4\n",
       "4a      4\n",
       "19c     4\n",
       "5b      3\n",
       "5a      3\n",
       "1d      3\n",
       "10a     3\n",
       "8b      3\n",
       "16b     3\n",
       "7b      2\n",
       "6b      2\n",
       "5f      2\n",
       "18c     2\n",
       "16a     1\n",
       "15b     1\n",
       "17b     1\n",
       "23a     1\n",
       "14b     1\n",
       "5e      1\n",
       "19b     1\n",
       "Name: MAPPING_UN,C,16, dtype: int64"
      ]
     },
     "execution_count": 228,
     "metadata": {},
     "output_type": "execute_result"
    }
   ],
   "source": [
    "df[\"MAPPING_UN,C,16\"].value_counts()"
   ]
  },
  {
   "cell_type": "code",
   "execution_count": 229,
   "metadata": {},
   "outputs": [],
   "source": [
    "df[\"MAPPING_UN,C,16\"].replace([\"1a\", \"1b\", \"1c\", \"1d\", \"2a\", \"2b\", \"2c\", \"3a\", \"4a\", \"5a\", \"5b\", \"5c\", \"5d\", \"5e\", \"5f\", \"6a\", \"6b\", \"7a\", \"7b\", \"7c\", \"8a\", \"8b\", \"9a\", \"10a\", \"11a\", \"12a\", \"13a\", \"14a\", \"14b\", \"15a\", \"15b\", \"15c\", \"15d\", \"15e\", \"15f\", \"15g\", \"16a\", \"16b\", \"17a\", \"17b\", \"18a\", \"18b\", \"18c\", \"18d\", \"19a\", \"19b\", \"19c\", \"20a\", \"20b\", \"21a\", \"21b\", \"21c\", \"22a\", \"22b\", \"22c\", \"23a\", \"24a\", \"24b\"],\n",
    "                              [0, 1, 2, 3, 4, 5, 6, 7, 8, 9, 10, 11, 12, 13, 14, 15, 16, 17, 18, 19, 20, 21, 22, 23, 24, 25, 26, 27, 28, 29, 30, 31, 32, 33, 34, 35, 36, 37, 38, 39, 40, 41, 42, 43, 44, 45, 46, 47, 48, 49, 50, 51, 52, 53, 54, 55, 56, 57], inplace = True)"
   ]
  },
  {
   "cell_type": "code",
   "execution_count": 230,
   "metadata": {},
   "outputs": [
    {
     "data": {
      "text/plain": [
       "0    33\n",
       "1    52\n",
       "2     4\n",
       "3    57\n",
       "4     4\n",
       "5     7\n",
       "6    52\n",
       "7    52\n",
       "8    40\n",
       "9    33\n",
       "Name: MAPPING_UN,C,16, dtype: int64"
      ]
     },
     "execution_count": 230,
     "metadata": {},
     "output_type": "execute_result"
    }
   ],
   "source": [
    "df[\"MAPPING_UN,C,16\"][:10]"
   ]
  },
  {
   "cell_type": "code",
   "execution_count": 231,
   "metadata": {},
   "outputs": [
    {
     "data": {
      "text/plain": [
       "Undifferentiated Basement Complex                                       238\n",
       "Sandstone and Shales                                                     56\n",
       "Migmatite                                                                47\n",
       "Recent Alluvium                                                          42\n",
       "Sandstones, Mudstones and Shales                                         31\n",
       "Aeolian sand over alluvium                                               27\n",
       "Mangrove Swamps                                                          23\n",
       "Beach ridge sands and mounds                                             19\n",
       "Shales                                                                   16\n",
       "Nupe and other cretaceous sandstone                                      14\n",
       "Nupe Sandstone                                                           13\n",
       "Old and subrecent Alluvium                                               13\n",
       "Coastal Plain sands and Sandstone                                        12\n",
       "Sand dumes over Sandstone and chad sediment and Basement Complex         10\n",
       "Coastal Plain sands                                                      10\n",
       "Colluvial deposits over granitic materials                                9\n",
       "Sandstone on Basement Complex                                             8\n",
       "Aeolian sands                                                             8\n",
       "Deltaic Basin and Tidal flats                                             8\n",
       "Sandstone                                                                 7\n",
       "Sandstone (Ilaro-Abeokuta Formation)                                      5\n",
       "Lagoonal marshes and back fresh water                                     5\n",
       "Sandstone (Abeokuta Formation)                                            5\n",
       "Newer Basalts over Basement Comple                                        5\n",
       "Transitional materials of subrecent alluvium and coastal palin sands      4\n",
       "Sandy Materials                                                           4\n",
       "Coastal plain sands II (Ultisols)                                         4\n",
       "Sambreiro-Warri Deltaic plains                                            3\n",
       "Quartzites, quarts-schists and Amphibolites                               3\n",
       "Coastal Plain Sands (Alfisols)                                            3\n",
       "Basalts                                                                   3\n",
       "Upper Coal Measure (Ewekoro Formation)                                    1\n",
       "Aeolian sand over sandstone                                               1\n",
       "Ewekoro Formation (Upper Coal measure                                     1\n",
       "Name: GEOLOGY,C,80, dtype: int64"
      ]
     },
     "execution_count": 231,
     "metadata": {},
     "output_type": "execute_result"
    }
   ],
   "source": [
    "df[\"GEOLOGY,C,80\"].value_counts()"
   ]
  },
  {
   "cell_type": "code",
   "execution_count": 232,
   "metadata": {},
   "outputs": [],
   "source": [
    "df[\"GEOLOGY,C,80\"].replace([\"Undifferentiated Basement Complex\", \"Sandstone and Shales\", \"Migmatite\", \"Recent Alluvium\", \"Sandstones, Mudstones and Shales\", \"Aeolian sand over alluvium\", \"Mangrove Swamps\", \"Beach ridge sands and mounds\", \"Shales\", \"Nupe and other cretaceous sandstone\", \"Nupe Sandstone\", \"Old and subrecent Alluvium\", \"Coastal Plain sands and Sandstone\", \"Coastal Plain sands\", \"Sand dumes over Sandstone and chad sediment and Basement Complex\", \"Colluvial deposits over granitic materials\", \"Sandstone on Basement Complex\", \"Deltaic Basin and Tidal flats\", \"Aeolian sands\", \"Sandstone\", \"Newer Basalts over Basement Comple\", \"Sandstone (Abeokuta Formation)\", \"Sandstone (Ilaro-Abeokuta Formation)\", \"Lagoonal marshes and back fresh water\", \"Sandy Materials\", \"Transitional materials of subrecent alluvium and coastal palin sands\", \"Coastal plain sands II (Ultisols)\", \"Basalts\", \"Quartzites, quarts-schists and Amphibolites\", \"Coastal Plain Sands (Alfisols)\", \"Sambreiro-Warri Deltaic plains\", \"Aeolian sand over sandstone\", \"Ewekoro Formation (Upper Coal measure\", \"Upper Coal Measure (Ewekoro Formation)\"],\n",
    "                          [0, 1, 2, 3, 4, 5, 6, 7, 8, 9, 10, 11, 12, 13, 14, 15, 16, 17, 18, 19, 20, 21, 22, 23, 24, 25, 26, 27, 28, 29, 30, 31, 32, 33,], inplace = True)"
   ]
  },
  {
   "cell_type": "code",
   "execution_count": 233,
   "metadata": {},
   "outputs": [
    {
     "data": {
      "text/plain": [
       "0      10\n",
       "1      19\n",
       "2       3\n",
       "3       0\n",
       "4       3\n",
       "       ..\n",
       "653     7\n",
       "654     7\n",
       "655     7\n",
       "656     5\n",
       "657    14\n",
       "Name: GEOLOGY,C,80, Length: 658, dtype: int64"
      ]
     },
     "execution_count": 233,
     "metadata": {},
     "output_type": "execute_result"
    }
   ],
   "source": [
    "df[\"GEOLOGY,C,80\"]"
   ]
  },
  {
   "cell_type": "code",
   "execution_count": 234,
   "metadata": {},
   "outputs": [
    {
     "data": {
      "text/plain": [
       "0 - 2%                302\n",
       "0 - 6%                149\n",
       "13 - 55%              119\n",
       "0 - 13%                39\n",
       "0 - 22%                15\n",
       "0 - 6% and 5 - 30%     13\n",
       "0 - 2 and 5 - 30%      11\n",
       "6 - 25%                10\n",
       "Name: SLOPE,C,30, dtype: int64"
      ]
     },
     "execution_count": 234,
     "metadata": {},
     "output_type": "execute_result"
    }
   ],
   "source": [
    "df[\"SLOPE,C,30\"].value_counts()"
   ]
  },
  {
   "cell_type": "code",
   "execution_count": 235,
   "metadata": {},
   "outputs": [],
   "source": [
    "df[\"SLOPE,C,30\"].replace([\"0 - 2%\", \"0 - 6%\", \"13 - 55%\", \"0 - 13%\", \"6 - 25%\", \"0 - 22%\", \"0 - 6% and 5 - 30% \", \"0 - 2 and 5 - 30%\", \"6 - 25%\", \"0 - 6% and 5 - 30%\"],\n",
    "                        [0, 1, 2, 3, 4, 5, 6, 7, 8, 9], inplace = True)"
   ]
  },
  {
   "cell_type": "code",
   "execution_count": 236,
   "metadata": {},
   "outputs": [
    {
     "data": {
      "text/plain": [
       "449    8\n",
       "450    9\n",
       "451    0\n",
       "452    0\n",
       "453    0\n",
       "454    9\n",
       "455    0\n",
       "456    7\n",
       "457    9\n",
       "458    8\n",
       "459    8\n",
       "460    7\n",
       "461    8\n",
       "462    0\n",
       "463    9\n",
       "464    8\n",
       "465    0\n",
       "466    7\n",
       "467    7\n",
       "468    9\n",
       "469    8\n",
       "470    0\n",
       "471    7\n",
       "472    0\n",
       "473    8\n",
       "474    7\n",
       "475    9\n",
       "476    0\n",
       "477    0\n",
       "478    9\n",
       "479    7\n",
       "480    2\n",
       "481    0\n",
       "482    3\n",
       "483    0\n",
       "484    0\n",
       "485    1\n",
       "486    0\n",
       "487    0\n",
       "488    0\n",
       "489    3\n",
       "490    1\n",
       "491    1\n",
       "492    0\n",
       "493    0\n",
       "494    0\n",
       "495    1\n",
       "496    0\n",
       "497    1\n",
       "498    0\n",
       "499    1\n",
       "Name: SLOPE,C,30, dtype: int64"
      ]
     },
     "execution_count": 236,
     "metadata": {},
     "output_type": "execute_result"
    }
   ],
   "source": [
    "df[\"SLOPE,C,30\"][449:500]"
   ]
  },
  {
   "cell_type": "code",
   "execution_count": 237,
   "metadata": {},
   "outputs": [
    {
     "data": {
      "text/plain": [
       "Savannah Soils       427\n",
       "Wet Land Soils       137\n",
       "Rainforest Soils      74\n",
       "Rain forest Soils     20\n",
       "Name: ECOLOGICAL,C,50, dtype: int64"
      ]
     },
     "execution_count": 237,
     "metadata": {},
     "output_type": "execute_result"
    }
   ],
   "source": [
    "df[\"ECOLOGICAL,C,50\"].value_counts()"
   ]
  },
  {
   "cell_type": "code",
   "execution_count": 238,
   "metadata": {},
   "outputs": [],
   "source": [
    "df[\"ECOLOGICAL,C,50\"].replace([\"Savannah Soils\", \"Wet Land Soils\", \"Rainforest Soils\", \"Rain forest Soils\"],\n",
    "                             [0, 1, 2, 3], inplace = True)"
   ]
  },
  {
   "cell_type": "code",
   "execution_count": 239,
   "metadata": {},
   "outputs": [
    {
     "data": {
      "text/plain": [
       "299    0\n",
       "300    0\n",
       "301    0\n",
       "302    0\n",
       "303    0\n",
       "304    0\n",
       "305    0\n",
       "306    0\n",
       "307    0\n",
       "308    0\n",
       "309    0\n",
       "310    0\n",
       "311    0\n",
       "312    0\n",
       "313    0\n",
       "314    0\n",
       "315    0\n",
       "316    0\n",
       "317    0\n",
       "318    0\n",
       "319    0\n",
       "320    0\n",
       "321    0\n",
       "322    0\n",
       "323    0\n",
       "324    0\n",
       "325    0\n",
       "326    0\n",
       "327    0\n",
       "328    0\n",
       "329    0\n",
       "330    0\n",
       "331    3\n",
       "332    0\n",
       "333    0\n",
       "334    0\n",
       "335    0\n",
       "336    0\n",
       "337    0\n",
       "338    0\n",
       "339    0\n",
       "340    0\n",
       "341    0\n",
       "342    0\n",
       "343    0\n",
       "344    0\n",
       "345    0\n",
       "346    0\n",
       "347    0\n",
       "348    0\n",
       "349    2\n",
       "Name: ECOLOGICAL,C,50, dtype: int64"
      ]
     },
     "execution_count": 239,
     "metadata": {},
     "output_type": "execute_result"
    }
   ],
   "source": [
    "df[\"ECOLOGICAL,C,50\"][299:350]"
   ]
  },
  {
   "cell_type": "code",
   "execution_count": 240,
   "metadata": {},
   "outputs": [
    {
     "data": {
      "text/plain": [
       "Well Drained           319\n",
       "Poorly Drained         193\n",
       "Moderately Drained      75\n",
       "Imperfectly Drained     64\n",
       "Shallow Drained          7\n",
       "Name: DRAINAGE,C,70, dtype: int64"
      ]
     },
     "execution_count": 240,
     "metadata": {},
     "output_type": "execute_result"
    }
   ],
   "source": [
    "df[\"DRAINAGE,C,70\"].value_counts()"
   ]
  },
  {
   "cell_type": "code",
   "execution_count": 241,
   "metadata": {},
   "outputs": [],
   "source": [
    "df[\"DRAINAGE,C,70\"].replace([\"Well Drained\", \"Poorly Drained\", \"Moderately Drained\", \"Imperfectly Drained\", \"Shallow Drained\"],\n",
    "                           [0, 1, 2, 3, 4, ], inplace = True)"
   ]
  },
  {
   "cell_type": "code",
   "execution_count": 242,
   "metadata": {},
   "outputs": [
    {
     "data": {
      "text/plain": [
       "0      0\n",
       "1      4\n",
       "2      1\n",
       "3      0\n",
       "4      1\n",
       "      ..\n",
       "653    1\n",
       "654    1\n",
       "655    1\n",
       "656    1\n",
       "657    2\n",
       "Name: DRAINAGE,C,70, Length: 658, dtype: int64"
      ]
     },
     "execution_count": 242,
     "metadata": {},
     "output_type": "execute_result"
    }
   ],
   "source": [
    "df[\"DRAINAGE,C,70\"]"
   ]
  },
  {
   "cell_type": "code",
   "execution_count": 243,
   "metadata": {},
   "outputs": [
    {
     "data": {
      "text/plain": [
       "5.1 - 6.6      89\n",
       "5.5 - 6.3      47\n",
       "5.9 - 4.9      42\n",
       "4.5 - 5.5      35\n",
       "6.3            34\n",
       "6.6 - 7.3      31\n",
       "5.1 - 5.6      29\n",
       "5.8 - 7.0      26\n",
       "5.6 - 5.9      25\n",
       "5.1 - 6.5      24\n",
       "7.0 - 8.4      24\n",
       "4.5 - 5.2      23\n",
       "5.0 - 5.5      21\n",
       "6.2 - 6.2      20\n",
       "8.5 - 9.1      15\n",
       " 5.6 - 6.9     14\n",
       "6.5 - 7.8      13\n",
       " 5.1 - 7.3     10\n",
       "5.9 - 6.3      10\n",
       "5.6 - 6.5      10\n",
       "7.0 - 7.8       8\n",
       "6.3 - 8.5       8\n",
       "4.6 - 5.0       8\n",
       "4.9 - 6.5       8\n",
       "4.2 - 4.6       7\n",
       "3.9 - 4.2       6\n",
       "5.1 - 5.9       5\n",
       "5.1             5\n",
       "5.5 - 5.9       5\n",
       "8.5 - 8.7       5\n",
       "5.0 - 5.8       5\n",
       " 3.6 - 5.0      5\n",
       " 5.1 - 5.5.     5\n",
       "5.6 - 5.8       4\n",
       "4.2 - 4.7       4\n",
       "5.1 - 6.0       4\n",
       "5.6 - 6.0       3\n",
       "6.6 - 6.9       3\n",
       "4.7 - 5.8       3\n",
       "5.1 - 5.3       3\n",
       "4.6 - 4.8       2\n",
       "5.6 - 6.1.      2\n",
       "5.2 - 6.0       2\n",
       "3.9 - 4.4       1\n",
       "5.1 - 5.5       1\n",
       "5.4 - 6.2       1\n",
       "4.5 - 4.9       1\n",
       "5.1 - 5.8       1\n",
       "4.3 - 4.9       1\n",
       "Name: SOIL_PH,C,30, dtype: int64"
      ]
     },
     "execution_count": 243,
     "metadata": {},
     "output_type": "execute_result"
    }
   ],
   "source": [
    "df[\"SOIL_PH,C,30\"].value_counts()"
   ]
  },
  {
   "cell_type": "code",
   "execution_count": 244,
   "metadata": {},
   "outputs": [],
   "source": [
    "df[\"SOIL_PH,C,30\"].replace([\"5.1 - 6.6\", \" 3.6 - 5.0\", \"5.5 - 6.3\", \" 5.6 - 6.9\", \" 5.1 - 5.5.\", \"5.9 - 4.9\", \"4.5 - 5.5\", \"6.3\", \"6.6 - 7.3\", \"5.1 - 5.6\", \"5.8 - 7.0\", \"5.6 - 5.9\", \"5.1 - 6.5\", \"7.0 - 8.4\", \"4.5 - 5.2\", \"5.0 - 5.5\", \"6.2 - 6.2\", \"8.5 - 9.1\", \"5.6 - 6.9\", \"6.5 - 7.8\", \"5.6 - 6.5\", \" 5.1 - 7.3\", \"5.9 - 6.3\", \"4.6 - 5.0\", \"4.9 - 6.5\", \"7.0 - 7.8\", \"6.3 - 8.5\", \"6.3 - 8.5\", \"4.2 - 4.6\", \"3.9 - 4.2\", \"5.0 - 5.8\", \"8.5 - 8.7\", \"5.1 - 5.9\", \"3.6 - 5.0\", \"5.1 - 5.5.\", \"5.5 - 5.9\", \"5.1\", \"5.1 - 6.0\", \"5.6 - 5.8\", \"4.2 - 4.7\", \"6.6 - 6.9\", \"4.7 - 5.8\", \"5.1 - 5.3\", \"5.6 - 6.0\", \"5.2 - 6.0\", \"5.6 - 6.1.\", \"4.6 - 4.8\", \"3.9 - 4.4\", \"4.5 - 4.9\", \"5.1 - 5.5\", \"4.3 - 4.9\", \"5.4 - 6.2\", \"5.1 - 5.8\"],\n",
    "                          [0, 1, 2, 3, 4, 5, 6, 7, 8, 9, 10, 11, 12, 13, 14, 15, 16, 17, 18, 19, 20, 21, 22, 23, 24, 25, 26, 27, 28, 29, 30, 31, 32, 33, 34, 35, 36, 37, 38, 39, 40, 41, 42, 43, 44, 45, 46, 47, 48, 49, 50, 51, 52], inplace = True)"
   ]
  },
  {
   "cell_type": "code",
   "execution_count": 245,
   "metadata": {},
   "outputs": [
    {
     "data": {
      "text/plain": [
       "449    21\n",
       "450    12\n",
       "451     7\n",
       "452    15\n",
       "453     7\n",
       "454    12\n",
       "455     7\n",
       "456    12\n",
       "457    12\n",
       "458    21\n",
       "459    21\n",
       "460    12\n",
       "461    21\n",
       "462    20\n",
       "463    12\n",
       "464    21\n",
       "465    20\n",
       "466    43\n",
       "467    43\n",
       "468    12\n",
       "469    21\n",
       "470    20\n",
       "471    43\n",
       "472    20\n",
       "473    21\n",
       "474    12\n",
       "475    12\n",
       "476     5\n",
       "477    20\n",
       "478    12\n",
       "479    12\n",
       "480     0\n",
       "481     2\n",
       "482    10\n",
       "483     2\n",
       "484     2\n",
       "485    11\n",
       "486     2\n",
       "487     7\n",
       "488     7\n",
       "489    10\n",
       "490    11\n",
       "491    11\n",
       "492     1\n",
       "493    52\n",
       "494     1\n",
       "495    30\n",
       "496    41\n",
       "497    30\n",
       "498     5\n",
       "499    30\n",
       "Name: SOIL_PH,C,30, dtype: int64"
      ]
     },
     "execution_count": 245,
     "metadata": {},
     "output_type": "execute_result"
    }
   ],
   "source": [
    "df[\"SOIL_PH,C,30\"][449:500]"
   ]
  },
  {
   "cell_type": "code",
   "execution_count": 246,
   "metadata": {},
   "outputs": [
    {
     "data": {
      "text/plain": [
       "Strogly acidic to Slightly Acidic       209\n",
       "Very Strongly Acidic                    116\n",
       "Slightly Acidic                          99\n",
       "Moderately Acidic                        72\n",
       "Slightly acidic to Neutral               57\n",
       "Neutral to Moderately Alkaline           32\n",
       "Very Strongly Acidic to Neutral          18\n",
       "Very strongly to Strongly alkaline       15\n",
       "Slightly acidic to slightly alkaline     13\n",
       "Slightly acidic to strongly alkaline      8\n",
       "Slightly to very strongly acidic          6\n",
       "Slightly alkaline                         5\n",
       "Moderately acidic to strongly acidic      5\n",
       "Neutral                                   3\n",
       "Name: PH_DESCRIP,C,50, dtype: int64"
      ]
     },
     "execution_count": 246,
     "metadata": {},
     "output_type": "execute_result"
    }
   ],
   "source": [
    "df[\"PH_DESCRIP,C,50\"].value_counts()"
   ]
  },
  {
   "cell_type": "code",
   "execution_count": 247,
   "metadata": {},
   "outputs": [],
   "source": [
    "df[\"PH_DESCRIP,C,50\"].replace([\"Strogly acidic to Slightly Acidic\", \"Very Strongly Acidic\", \"Slightly Acidic\", \"Moderately Acidic\", \"Slightly acidic to Neutral\", \"Neutral to Moderately Alkaline\", \"Very Strongly Acidic to Neutral\", \"Very strongly to Strongly alkaline\", \"Slightly acidic to slightly alkaline\", \"Slightly acidic to strongly alkaline\", \"Slightly to very strongly acidic\", \"Moderately acidic to strongly acidic\", \"Slightly alkaline\", \"Neutral\"],\n",
    "                             [0, 1, 2, 3, 4, 5, 6, 7, 8, 9, 10, 11, 12, 13], inplace = True)"
   ]
  },
  {
   "cell_type": "code",
   "execution_count": 248,
   "metadata": {},
   "outputs": [
    {
     "data": {
      "text/plain": [
       "0      2\n",
       "1      2\n",
       "2      1\n",
       "3      0\n",
       "4      1\n",
       "      ..\n",
       "653    1\n",
       "654    1\n",
       "655    1\n",
       "656    5\n",
       "657    3\n",
       "Name: PH_DESCRIP,C,50, Length: 658, dtype: int64"
      ]
     },
     "execution_count": 248,
     "metadata": {},
     "output_type": "execute_result"
    }
   ],
   "source": [
    "df[\"PH_DESCRIP,C,50\"]"
   ]
  },
  {
   "cell_type": "code",
   "execution_count": 249,
   "metadata": {},
   "outputs": [
    {
     "data": {
      "text/plain": [
       "Moderately Suitable                                   270\n",
       "Fairly Higly Suitable with few physical limitation    173\n",
       "Currently Not Suitable                                119\n",
       "Marginally Suitable                                    96\n",
       "Name: SUITABILIT,C,70, dtype: int64"
      ]
     },
     "execution_count": 249,
     "metadata": {},
     "output_type": "execute_result"
    }
   ],
   "source": [
    "df[\"SUITABILIT,C,70\"].value_counts()"
   ]
  },
  {
   "cell_type": "code",
   "execution_count": 250,
   "metadata": {},
   "outputs": [],
   "source": [
    "df[\"SUITABILIT,C,70\"].replace([\"Moderately Suitable\", \"Fairly Higly Suitable with few physical limitation\", \"Currently Not Suitable\", \"Marginally Suitable\"],\n",
    "                             [0, 1, 2, 3], inplace = True)"
   ]
  },
  {
   "cell_type": "code",
   "execution_count": 251,
   "metadata": {},
   "outputs": [
    {
     "data": {
      "text/plain": [
       "0      1\n",
       "1      3\n",
       "2      0\n",
       "3      2\n",
       "4      0\n",
       "      ..\n",
       "653    0\n",
       "654    0\n",
       "655    0\n",
       "656    0\n",
       "657    1\n",
       "Name: SUITABILIT,C,70, Length: 658, dtype: int64"
      ]
     },
     "execution_count": 251,
     "metadata": {},
     "output_type": "execute_result"
    }
   ],
   "source": [
    "df[\"SUITABILIT,C,70\"]"
   ]
  },
  {
   "cell_type": "code",
   "execution_count": 252,
   "metadata": {},
   "outputs": [
    {
     "data": {
      "text/plain": [
       "Sandy Clay            337\n",
       "Sandy Loam            189\n",
       "Clay Loam              60\n",
       "Concretionary Clay     29\n",
       "Sandy                  19\n",
       "Loamy Fine Sand        13\n",
       "Silty Loam             10\n",
       "Silty Clay              1\n",
       "Name: SOIL_TEXTU,C,50, dtype: int64"
      ]
     },
     "execution_count": 252,
     "metadata": {},
     "output_type": "execute_result"
    }
   ],
   "source": [
    "df[\"SOIL_TEXTU,C,50\"].value_counts()"
   ]
  },
  {
   "cell_type": "code",
   "execution_count": 253,
   "metadata": {},
   "outputs": [],
   "source": [
    "df[\"SOIL_TEXTU,C,50\"].replace([\"Sandy Clay\", \"Sandy Loam\", \"Clay Loam\", \"Concretionary Clay\", \"Sandy\", \"Loamy Fine Sand\", \"Silty Loam\", \"Silty Clay\"],\n",
    "                             [0, 1, 2, 3, 4, 5, 6, 7], inplace = True)"
   ]
  },
  {
   "cell_type": "code",
   "execution_count": 254,
   "metadata": {},
   "outputs": [
    {
     "data": {
      "text/plain": [
       "0      0\n",
       "1      1\n",
       "2      1\n",
       "3      0\n",
       "4      1\n",
       "      ..\n",
       "653    4\n",
       "654    4\n",
       "655    4\n",
       "656    1\n",
       "657    1\n",
       "Name: SOIL_TEXTU,C,50, Length: 658, dtype: int64"
      ]
     },
     "execution_count": 254,
     "metadata": {},
     "output_type": "execute_result"
    }
   ],
   "source": [
    "df[\"SOIL_TEXTU,C,50\"]"
   ]
  },
  {
   "cell_type": "code",
   "execution_count": 255,
   "metadata": {},
   "outputs": [
    {
     "data": {
      "text/plain": [
       "Aeric Tropaquept       14\n",
       "Oxic Haplustalf        17\n",
       "Typic Fluvaquent       20\n",
       "Typic Paleustult       20\n",
       "Ustoxic Dystropept     22\n",
       "Typic Ustipsamment     23\n",
       "Oxic Tropudalf         28\n",
       "Typic Tropaquept       34\n",
       "Oxic Dystropept        35\n",
       "Typic Tropaquent      102\n",
       "Name: SOIL_CLASS,C,50, dtype: int64"
      ]
     },
     "execution_count": 255,
     "metadata": {},
     "output_type": "execute_result"
    }
   ],
   "source": [
    "np.random.seed(42)\n",
    "df[\"SOIL_CLASS,C,50\"].value_counts(ascending = True).iloc[109:130]"
   ]
  },
  {
   "cell_type": "code",
   "execution_count": 256,
   "metadata": {},
   "outputs": [],
   "source": [
    "df[\"SOIL_CLASS,C,50\"].replace([\"Arenic Paleudult\", \"Lithic Ustorthents\", \"Acquic Haplustalf\", \"Arenic Paleustalt\", \"Typic Rhodustult\",  \"Typic Tropudalf\", \"Oxic Ustipsamment\", \"Arenic Haplustalf\", \"Dystropeptic Tropodult\", \"Oxic Paleustults\", \"Orthoxic Tropudult\", \"Aquic Paleustalf\", \"Arenic Ustropept\", \"Aquic Hapludult\", \"Typic Rhodustalf\", \"Typic Dystropepts\", \"Vertic Torrifluvent\", \"Oxic Haplustalfs\", \"Ustoxic Drystropept\", \"Ustic Dystropept\", \"Typic Torrifluvent\", \"Oxic Ustropepts\", \"Typic Utropept\", \"Ultic Haplustalf\", \"Oxic Rhodudalf\", \"Aeric Tropic Flavaquent\", \" Typic  Chromustert\", \"Ustic Torrifluvent\", \"Oxic Eutropept\", \"Aquic Tropopsament\", \"Lithic Ustropept\", \"Typic tropaqualf\", \"Vertic Ustifluvent\", \"Petrocalcic Paleustalf\", \"Vetic Haplustalf\", \"Udic Paleystalf\", \"Udic Paleustalf\", \"Plinthustult\", \"Aquic Ustifluvent\", \"Typic Tropaquepts\", \"Typic Haplaquept\", \"Orthic Tropudult\", \"Aquic Arenic Haplustalf\", \"Aquultic Paleustalf\", \"Typic Haplaquent\", \"Lithic Haplustult\", \"Typic Tropaqult\", \"Vertic Tropaqualf\", \"Oxic Dystropepts\", \"Oxic Tropudult\", \"Ustic Paleustalf\", \"TYpic Tropaquept\", \"Oxic tropudalf\", \" Arenic haplustalf\", \"Typic Tropopsamments\", \"Arenic Paleustalf\", \"Lithic Dystropept\", \"Lithic Haplustalf\", \"Plinthic Tropudult\", \"Typic Utipsamment\", \" Psammentic Haplustalf\", \"Aeric Tropaqualf\", \"Cross arenic Paleudult\", \"Alfic Ustipsamment\", \"Arenic Paleustult\", \"Lithic Ustrorthent\", \"Oxic haplustalf\", \"Vertic Tropaquept\", \"Tropic Sulfic Fluvaquent\", \"Oxic Paleustalfs\", \"Ustoxic Dystropepts\", \"Udic Haplustalf\", \"Ultic Paleustalf\", \"Lypic Tropothents\", \"(Rhodic) Ultic Paleustalf\", \"Aquic Paleudult\", \"Typic Torriorthent\", \"Typic Tropopsamment\", \"Typic Ustorthent\", \"Ustic Dystropepts\", \"Typic paleudult\", \"Aeric Tropaqualfs\", \"Oxic Paleustult\", \"Aquic Ustipsamment\", \"Typic Ustropept\", \"Typic tropopsamment\", \"Typic Torripsamment\", \"Aquic Dystropept\", \"Rhodic Paleudult\", \"Typic Udipsamment\", \"Typic Psammaquent\", \"Typic Hapleustalf\", \"Typic Tropaqualf\", \"Typic Paleudult\", \"Typic Dystropept\", \"Typic Haplustult\", \"Typic Haplustults\", \"Oxic Ustropept\", \"Typic Paleustalf\", \"Lithic Troporthent\", \"Aquic Haplustalf\", \"Oxic Haplustults\", \"Oxic Paleustalf\", \"Typic Ustifluvent\", \"Lithic Ustorthent\", \"Oxic Haplustult\", \"Typic Tropudult\", \"Typic Haplustalf\", \"Orthic Tropudalf\", \"Aeric Tropaquept\", \"Oxic Haplustalf\", \"Typic Fluvaquent\", \"Typic Paleustult\", \"Ustoxic Dystropept\", \"Typic Ustipsamment\", \"Oxic Tropudalf\", \"Typic Tropaquept\", \"Oxic Dystropept\", \"Typic Tropaquent\"],\n",
    "                             [0, 1, 2, 3, 4, 5, 6, 7, 8, 9, 11, 12, 13, 14, 15, 16, 17, 18, 19, 20, 21, 22, 23, 24, 25, 26, 27, 28, 29, 30, 31, 32, 33, 34, 35, 36, 37, 38, 39, 40, 41, 42, 43, 44, 45, 46, 47, 48, 49, 50, 51, 52, 53, 54, 55, 56, 57, 58, 59, 60, 61, 62, 63, 64, 65, 66, 67, 68, 69, 70, 71, 72, 73, 74, 75, 76, 77, 78, 79, 80, 81, 82, 83, 84, 85, 86, 87, 88, 89, 90, 91, 92, 93, 94, 95, 96, 97, 98, 99, 100, 101, 102, 103, 104, 105, 106, 107, 108, 109, 110, 111, 112, 113, 114, 115, 116, 117, 118, 119], inplace = True)"
   ]
  },
  {
   "cell_type": "code",
   "execution_count": 257,
   "metadata": {},
   "outputs": [
    {
     "data": {
      "text/plain": [
       "0      114\n",
       "1       92\n",
       "2      117\n",
       "3      119\n",
       "4      104\n",
       "      ... \n",
       "653    119\n",
       "654     91\n",
       "655     91\n",
       "656    115\n",
       "657     43\n",
       "Name: SOIL_CLASS,C,50, Length: 658, dtype: int64"
      ]
     },
     "execution_count": 257,
     "metadata": {},
     "output_type": "execute_result"
    }
   ],
   "source": [
    "df[\"SOIL_CLASS,C,50\"]"
   ]
  },
  {
   "cell_type": "code",
   "execution_count": 258,
   "metadata": {
    "scrolled": true
   },
   "outputs": [
    {
     "data": {
      "text/plain": [
       "Cassava, Maize                                   1\n",
       "Forest Reserve                                   1\n",
       "Cassava, Vegetables and Plantain                 1\n",
       "Grassland Dominated by Pennisetum Spp.           1\n",
       "Grassland and Grazing                            1\n",
       "                                                ..\n",
       "Groundnut,Sorghum,Cotton,Maize,Millet,Cowpea    24\n",
       "Fallow                                          27\n",
       "Rain Forest                                     32\n",
       "Secondary Bush                                  58\n",
       "Grassland                                       90\n",
       "Name: VEGETATION,C,120, Length: 230, dtype: int64"
      ]
     },
     "execution_count": 258,
     "metadata": {},
     "output_type": "execute_result"
    }
   ],
   "source": [
    "np.random.seed(42)\n",
    "df[\"VEGETATION,C,120\"].value_counts(ascending= True)"
   ]
  },
  {
   "cell_type": "code",
   "execution_count": 259,
   "metadata": {},
   "outputs": [],
   "source": [
    "df[\"VEGETATION,C,120\"].replace([\"cultivated to maize and groundnut\", \"Fallow, Derived Savanna\", 'Sorghum, Maize, Millet, Potatoes \"Acha\"', \"Cultivated to rice, maIize and sugarcane\", \"Secondary Bush with Oil Palms / Eupatorim dominant\", \"Maize and Sorghum farms and meadow\", \"Grass / Shrubs\", \"Very few shrubs\", \"Savannah Woodland  Maize,Yam and Sorghum\", \"Millet, Guinea Corn\", \"Savannah Woodland cultivated to Sorghum\", \"Cassava, Maize, Oil Palm\", \"Cassava farm\", \"Sorghum, millet and yam\", \"Open Savanna shrubland, cultivated to millet,  beans and groundnut.\", \"Derived Savannah with mainly Grasses and many shrubs and trees, cultivated to guinea corn,maize, yam, Cassava\", \"Sorghum,Millet,Beans and Groundnut\", \"Secondary savanna bush\", \"Derived Savannah with Grasses,(Imperata Cylindrica) some trees ususally cultivated to guinea corn,maize, yam, Cassava\", \"Open Savannah shrubland , cultivated to millet and Beans\", \"Eupatorium Odoratum\", \"Millet,Guinea Corn, Yam\", \"Cultivated to swamp rice and oil palm\", \"Scrub land within  Pennisetum\", \"Sugarcane, Vegetables\", \"Grass-Tree Mosaic yam, maize and cassava\", \"Open Savanna Shrubland\", \"Long Fallow, Open Savanna grassland\", \"Sorghum, Millet, Millet and Vegetables\", \"Millet, Sorghum, Yam,Maize and Groundnut\", \"Sorghum Vegetables\", \"Acacia Shrubs\", \"Open Savannah Woodland cultivated to Sorghum, Millet, Maize, Beans, Groundnut\", \"Cultivated to rice, vegetables and tall grasses in part\", \"FAllow rice paddy, Marshy grassland\", \"Riverine open shrubland, cultivated to rice beans and dry season vegetables\", \"Cassava, Maize\", \"Guinea Savannah, Guinea Corn Millet. ,Maize, Cassava and Cowpea\", \"Sorghum, Millet, Vegetables\", \"Rice, Maize,Yam, Guinea Corn\", \"Forest\", \"Maize Guinea Corn, Shea butter\", \"Semi-desert with scattered palms, cultivated to millet, beans, groundnut and cassava.\", \"Scrub land and Pennisetum\", \"Savanna Woodland / Forest Reserve\", \"Fallow Guinea Savanna\", \"Grassland with shrub and thorn trees\", \"Fallow Savanna Shrub\", \"Partially Cultivated\", \"Kadanya, Dorowa\", \"Fallow with Shrubs,trees (Kaya) Groundnut,Sorghum,Millet\", \"Andropogon Spp and Eupatorium\", \"Fallow savannah\", \"Andropogon Grasses\", \"Secondary Bush - Oil palm\", \"Derived Savanna, Usual crops are Guinea Corn, Millet, Maize, Yam and Cassava\", \"Tree (Tsanuya) shrubs\", \"Rain Forset\", \"Savannah Shrubland cultivated to sorghum, Millet and maize, groundnut\", \"Sabara and Magariya grasses\", \"Shrub Savannah and heacy grazing with sparse cultivation of millet\", \"Thorny Shrubs,Baobab, Mango,Fallow Land Trees\", \"Grassland with thorny shrubs.\", \"Derived Savanna bush\", \"Derived Savanna bush\", \"Savannah Woodland cultivated  to sorghum, maize,onions, Okro and Tomatoes.\", \"Savanna Fallow Land\", \"Savannah Woodland, Yam, Maize, Cashew, Cassava and Locust Beans\", \"Shrubs with Grasses\", \"Yam,Cassava, Vegetables\",\"Thorn trees (ACACIA AOO) cultivated during reseeding flood / earth minning\", \"Grassland Dominated by Pennisetum Spp.\", \"Tea Plantation\", \"Fadama Grassland\", \"Cassava and Oil Palm\", \"Cultivated to sorghum and  Locust Beans\", \"Savannah Grass and Shrub Fallow\", \"Forest Reserve\", \"Maize,Millet,Sorghum,Yam and Groundnut\", \"Open Savanna shrubland, cultivated to millet, beans and sorghum.\", \"Cassava / Maize Farm\", \"Cassava, Vegetables and Plantain\", \"Fallow Previously cropped to guinea corn\", \"Meadow ans some maize and Sorghum\", \"Savannah Grassland with tall trees\", \"Oil Palm bush\", \"Grassland and Grazing\", \"Woodland Savanna, Yams, Sorghum, Maize and Cassava\", \"Hilly grassland Cultivated to Rice, Maize, Sorghum, Cocoyam, Okro\", \"Current Farm Land\", \"Savanna woodland sorghum, maize and yam\", \"Cassava, Yam\", \"Secondary Bush with Oil Palms\", \"Sorghum, Millet, Maize\", \"Guinea Savannah; crops grown are sorghum, millet, groundnut and yam\", \"Secondary bush\", \"Derived Savanna Fallow\", \"Cassava and Yam Farm\", \"Fallow Savanna Shrubland\", \"Savannah Woodland cultivated  to sorghum and maize\", \"Derived Savannah Woodland\",\"Mainly grassland with scattered thorn shrubs, cultivated during receeding flood and grazing in dry season\", \"Guinea savannah Bush fallow\", \"Uncultivated\", \"Savannah Shrub\", \"Cassava,Oil Palm,Raphia palm\", \"Woodland Savannah\", \"Open Savanna Shrubland cultivated to Millet and Sorghum\", \"Savannah Arable Farming\", \"Savanna Woodland  and Shrubs\", \"Open Savannah with Shrubs cultivated to maize, sorghum,millet, Beans  and Groundnut\", \"Fallow with tree shrub and Grass undergrowth\", \"Savanna Fallow\", \" Fallow Guinea Savanna\", \"Fallow with green Vegetation\", \"Savanna\", \"Savannah Woodland cultivated to Sorghum, Millet,Beans and Groundnut\", \"Grasses\", \"Cultivated to Sorghum and Nim trees\", \"Cultivated to sorghum and Beans\", \"Riverine open shrub land, dry season vegetables\", \"Secondary Forest fallow\", \"Open Savannah Woodland, Fallow\", \"Millet and Sorghum\", \"Extensively cultivated to sugarcane maize and rice\", \"Sorghum, maize and yam\", \"Fallow Savanna and Shrubland\", \"Woodland Savanna, Yams and Cassava\", \"Riparian forest, Sorghum\", \"Cultivated to Maize\", \"Secondary Bush, E.Odoratum, Panicum Spp.\", \"Savanna Shrub\", \"Open Savanna Shrubland cultivated to Millet,Beans and Groundnut\", \"Alluvial shrub savannah cultivated maize, millet and sorghum\", \"Thorny Shrubs, Mango,Maize and Guinea Corn (savannah)\", \"Derived Savannah usual crops are Sorghum, Millet, Maize and yam\", \"Savannah woodland cultivated to millet, Beans  and Groundnut\", \"Savanna shrubland, cultivated to millet, sorghum and beans.\", \"Fallow previously cropped to Guinea Corn\", \"Scattered thorny trees, Fallow\", \"Cultivated to Cowpea and Sorghum\", \"Grass /Tree mosaic; Yam, Cassava and maize\", \"Farms cultivated to maize and sorghum\", \"Cultivated to Cassava, Yam and Sorghum\", \"Scrub Woodland\", \"Degraded Savannah Woodland partly Cultivated to Maize\", \"Long Fallow, Open Savanna Woodland\", \"Forest reserve\", \"Oil Palm bush / Rice Paddy\", \"Savannah Woodland cultivated  to sorghum,Rice,Sugarcane,Vegetables  and maize\", \"Shrubs, MangoMillet and Guinea Corn\", \"Oil Palm bush (fallow) Eupatorium odoratum\", \"Shrubland Savanna, cultivated millet, beans\", \"Sorghum,Millet\", \"Savannah Shrub Land farm\", \"Sorghum and Groundnut\", \"OIl Palms,Plantain,Cassava\", \"Savannah cultivated to millet and Groundnut\", \"Cassava\", \"Rice Paddy\", \"Banana, Trees\", \"Cultivated to maize and Groundnut\", \"Savannah Woodland cultivated  to maize,Groundnuts,Bambara nuts and cassava.\", \"Derived savanna Fallow Land\", \"Open Savanna Woodland\", \"Guinea Savanna bush Fallow\", \"Sorghum\", \"Milllet, Sorghum,Yam, Maize and Groundnut\", \"Fallow Grassland\", \"Guinea Savannah\", \"Sorghum, Millet, Maize,Yam and Groundnut\", \"Guinea Corn,Maize, Cassava and Cowpea\", \"Eupatorium, Spear Grass\", \"Millet, Sorghum and Yam\", \"Yam,Rice,Cassava,Maize,Cocoa,OilPalm\", \"Oil Palm\", \"Guinea Corn\", \"Maize Guinea Corn\", \"Cultivated to rice\", \"Sorghum, Millet and Yam\", \"Savannah Woodland cultivated to Sorghum, Millet, Maize, Beans, Groundnut\", \"Cultivated to Millet\", \"Fallow Maize\", \"Savannah Shrubland cultivated to sorghum, Millet and maize\", \"Sorghum, Millet, Yam\", \"Fallow Mango Groove (Adjoining Corn Field)\", \"Open Savannah Woodland  cultivated to Groundnut and Sorghum\", \"Sorghum, Maize, Millet, Potatoes(Acha)\", \"Long Fallow, Guinea Savanna Woodland\", \"Degraded Savannah Woodland\", \"Open Savanna shrubland, cultivated to millet and beans.\", \"Oil Palm Cassava\", \"Open Savannah Woodland\", \"Rain Forset / Fallow\", \"Ferns\", \"Open Savanna woodland cultivated to Millet and Beans\", \"Open Savanna woodland\", \"Shrubs\", \"Fallow, Sorghum Land\", \"Tropical Rain Forest\", \"Savannah Woodland\", \"Savanna woodland with scattered trees cultivated to sorghum, Millet and Groundnut\", \"Cultivated to Sorghum\", \"Fallow,open savanna woodland\", \"Banana, Maize, Guinea Corn\", \"Rain forest fallow\", \"Shrub Woodland\", \"Guinea Savannah / Fallow\", \"Savanna Grassland\", \"Guinea savanna\", \"Raphia Palms,Ferns\", \"Savannah crops grown include sorghum, Millet and Maize\", \"Grassland Fallow\", \"Derived savanna fallow\", \"Savanna woodland cultivated to Millet, beans, groundnut  and Sorghum\", \"Oil Palm Bush\", \"Millet,Guinea Corn and Groundnut\", \"Sorghum, maize, Millet, Yam\", \"Sorghum and Vegetables\", \"Rain forest\", \"Grass\", \"Guinea Savanna\", \"Coconut, Cassava\", \"Fallow Guinea savanna\", \"Rainforest\", \"Bush Fallow\", \"Mangrove Trees - Rhizophora Spp\", \"Groundnut,Sorghum,Cotton,Maize,Millet,Cowpea\", \"Fallow\", \"Rain Forest\", \"Secondary Bush\", \"Grassland\"],\n",
    "                               [0, 1, 2, 3, 4, 5, 6, 7, 8, 9, 10, 11, 12, 13, 14, 15, 16, 17, 18, 19, 20, 21, 22, 23, 24, 25, 26, 27, 28, 29, 30, 31, 32, 33, 34, 35, 36, 37, 38, 39, 40, 41, 42, 43, 44, 45, 46, 47, 48, 49, 50, 51, 52, 53, 54, 55, 56, 57, 58, 59, 60, 61, 62, 63, 64, 65, 66, 67, 68, 69, 70, 71, 72, 73, 74, 75, 76, 77, 78, 79, 80, 81, 82, 83, 84, 85, 86, 87, 88, 89, 90, 91, 92, 93, 94, 95, 96, 97, 98, 99, 100, 101, 102, 103, 104, 105, 106, 107, 108, 109, 110, 111,  112, 113, 114, 115, 116, 117, 118, 119, 120, 121, 122, 123, 124, 125, 126, 127, 128, 129, 130, 131, 132, 133, 134, 135, 136, 137, 138, 139, 140, 141, 142, 143, 144, 145, 146, 147, 148, 149, 150, 151, 152, 153, 154, 155, 156, 157, 158, 159, 160, 161, 162, 163, 164, 165, 166, 167, 168, 169, 170, 171, 172, 173, 174, 175, 176, 177, 178, 179, 180, 181, 182, 183, 184, 185, 186, 187, 188, 189, 190, 191, 192, 193, 194, 195, 196, 197, 198, 199, 200, 201, 202, 203, 204, 205, 206, 207, 208, 209, 210, 211, 212, 213, 214, 215, 216, 217, 218, 219, 220, 221, 222, 223, 224, 225, 226, 227, 228, 229, 230, 231], inplace = True)"
   ]
  },
  {
   "cell_type": "code",
   "execution_count": 260,
   "metadata": {},
   "outputs": [
    {
     "data": {
      "text/plain": [
       "49     94\n",
       "50    104\n",
       "51     13\n",
       "52      2\n",
       "53    180\n",
       "54    141\n",
       "55    147\n",
       "56     89\n",
       "57      1\n",
       "58    189\n",
       "59     10\n",
       "60    127\n",
       "61    180\n",
       "62     87\n",
       "63    164\n",
       "64    189\n",
       "65    188\n",
       "66     88\n",
       "67    188\n",
       "68     33\n",
       "69    131\n",
       "70    122\n",
       "71    111\n",
       "72    140\n",
       "73    231\n",
       "74    186\n",
       "75    178\n",
       "76     84\n",
       "77     34\n",
       "78    231\n",
       "79     47\n",
       "80    227\n",
       "81     44\n",
       "82    137\n",
       "83     50\n",
       "84    227\n",
       "85    107\n",
       "86    195\n",
       "87    227\n",
       "88    227\n",
       "89    214\n",
       "90    227\n",
       "91    195\n",
       "92    178\n",
       "93    227\n",
       "94    190\n",
       "95    212\n",
       "96    169\n",
       "97      8\n",
       "98    230\n",
       "99    184\n",
       "Name: VEGETATION,C,120, dtype: int64"
      ]
     },
     "execution_count": 260,
     "metadata": {},
     "output_type": "execute_result"
    }
   ],
   "source": [
    "df[\"VEGETATION,C,120\"][49:100]"
   ]
  },
  {
   "cell_type": "code",
   "execution_count": 261,
   "metadata": {
    "scrolled": true
   },
   "outputs": [
    {
     "data": {
      "text/plain": [
       "40,620.47     89\n",
       "92,048.48     47\n",
       "76,515.95     42\n",
       "167,967.01    34\n",
       "33,720.12     31\n",
       "6,350.88      29\n",
       "84,296.24     26\n",
       "27,934.31     25\n",
       "6,611.38      24\n",
       "8,128.33      23\n",
       "1,772.15      19\n",
       "21,172.57     15\n",
       "25,243.45     15\n",
       "7,515.42      14\n",
       "4,727.07      13\n",
       "41,647.21     13\n",
       "15,517.11     13\n",
       "5,390.44      12\n",
       "711.01        10\n",
       "5,102.14      10\n",
       "4,716.39      10\n",
       "9,029.21      10\n",
       "3,833.63       8\n",
       "58,013.20      8\n",
       "5,323.75       8\n",
       "26,317.33      8\n",
       "8,463.62       8\n",
       "8,204.13       7\n",
       "5,567.97       6\n",
       "5,076.02       5\n",
       "7,877.00       5\n",
       "8,743.47       5\n",
       "3,866.37       5\n",
       "1,500.49       5\n",
       "853.22         5\n",
       "1,523.52       5\n",
       "6,496.88       4\n",
       "1,651.56       4\n",
       "6,793.86       4\n",
       "5,445.54       4\n",
       "178.98         3\n",
       "2,655.61       3\n",
       "1,799.60       3\n",
       "1,015.03       3\n",
       "3,968.03       3\n",
       "16,051.30      3\n",
       "1,934.45       2\n",
       "517.32         2\n",
       "352.81         2\n",
       "2,183.96       1\n",
       "828.70         1\n",
       "1,358.28       1\n",
       "5,068.57       1\n",
       "586.36         1\n",
       "1,614.99       1\n",
       "Name: DISTRIBUTI,C,50, dtype: int64"
      ]
     },
     "execution_count": 261,
     "metadata": {},
     "output_type": "execute_result"
    }
   ],
   "source": [
    "df[\"DISTRIBUTI,C,50\"].value_counts()"
   ]
  },
  {
   "cell_type": "code",
   "execution_count": 262,
   "metadata": {},
   "outputs": [],
   "source": [
    "df[\"DISTRIBUTI,C,50\"].replace([\"40,620.47\", \"92,048.48\", \"76,515.95\", \"167,967.01\", \"33,720.12\", \"1,523.52\", \"6,350.88\", \"84,296.24\", \"27,934.31\",\"6,611.38\", \"8,128.33\", \"1,772.15\", \"21,172.57\", \"25,243.45\", \"7,515.42\", \"41,647.21\", \"4,727.07\", \"15,517.11\", \"5,390.44\", \"711.01\", \"9,029.21\", \"828.70\", \"4,716.39\", \"5,102.14\", \"26,317.33\", \"1,614.99\", \"58,013.20\", \"3,833.63\", \"8,463.62\", \"5,323.75\", \"8,204.13\", \"5,567.97\", \"5,076.02\", \"1,500.49\", \"8,743.47\", \"7,877.00\", \"3,866.37\", \"853.22\", \"1,651.56\", \"5,445.54\", \"6,793.86\", \"6,496.88\", \"178.98\", \"3,968.03\", \"2,655.61\", \"1,799.60\", \"16,051.30\", \"1,015.03\", \"1,934.45\", \"352.81\", \"517.32\", \"5,068.57\", \"586.36\", \"1,358.28\", \"1,614.99\" \"828.70\", \"2,183.96\" ],\n",
    "                             [0, 1, 2, 3, 4, 5, 6, 7, 8, 9, 10, 11, 12, 13, 14, 15, 16, 17, 18, 19, 20, 21, 22, 23, 24, 25, 26, 27, 28, 29, 30, 31, 32, 33, 34, 35, 36, 37, 38, 39, 40, 41, 42, 43, 44, 45, 46, 47, 48, 49, 50, 51, 52, 53, 54, 55], inplace = True)"
   ]
  },
  {
   "cell_type": "code",
   "execution_count": 263,
   "metadata": {},
   "outputs": [
    {
     "data": {
      "text/plain": [
       "499    33\n",
       "500    39\n",
       "501    45\n",
       "502     2\n",
       "503     2\n",
       "504     2\n",
       "505    42\n",
       "506     5\n",
       "507    50\n",
       "508    19\n",
       "509    16\n",
       "510    16\n",
       "511    27\n",
       "512    20\n",
       "513    20\n",
       "514    45\n",
       "515    39\n",
       "516    33\n",
       "517    39\n",
       "518    27\n",
       "519    19\n",
       "520    16\n",
       "521    41\n",
       "522     2\n",
       "523     2\n",
       "524    18\n",
       "525     5\n",
       "526    41\n",
       "527    40\n",
       "528     2\n",
       "529    22\n",
       "530    34\n",
       "531    40\n",
       "532     2\n",
       "533    40\n",
       "534     5\n",
       "535     2\n",
       "536    40\n",
       "537     2\n",
       "538    20\n",
       "539     3\n",
       "540     2\n",
       "541    20\n",
       "542     2\n",
       "543    46\n",
       "544     7\n",
       "545    37\n",
       "546    37\n",
       "547    53\n",
       "548    50\n",
       "549    42\n",
       "Name: DISTRIBUTI,C,50, dtype: int64"
      ]
     },
     "execution_count": 263,
     "metadata": {},
     "output_type": "execute_result"
    }
   ],
   "source": [
    "df[\"DISTRIBUTI,C,50\"][499:550]"
   ]
  },
  {
   "cell_type": "code",
   "execution_count": 264,
   "metadata": {},
   "outputs": [
    {
     "data": {
      "text/plain": [
       "Gleyic Cambisol      125\n",
       "Orthic Luvisol       103\n",
       "Orthic Acrisol        60\n",
       "Dystric Cambisol      57\n",
       "Dystric Nitosol       32\n",
       "Dystric Regosol       26\n",
       "Eutric Regosol        22\n",
       "Eutric Cambisol       22\n",
       "Humic Gleysol         20\n",
       "Gleyic Luvisol        19\n",
       "Lithosol              18\n",
       "Chromic Luvisol       17\n",
       "Ferric Acrisol        16\n",
       "Gleyic Regosol        15\n",
       "Eutric Fluvisol       13\n",
       "Dystric Fluvisol      11\n",
       "Ferric Luvisol         9\n",
       "Eutric Gleysol         8\n",
       "Eutric cambisol        7\n",
       "Typic Ustifluvent      6\n",
       "Dystric Gleysol        5\n",
       "Plinthic Acrisol       4\n",
       "Dystric Acrisol        4\n",
       "Eutric Nitosol         3\n",
       "Dystric cambisol       2\n",
       "Cleyic Luvisol         2\n",
       "Gleyic Acrisol         2\n",
       "Vertic Luvisol         2\n",
       "Eustric Regosol        2\n",
       "Plinthic Luvisol       2\n",
       "Eutric regosol         2\n",
       "Ferric Cambisol        2\n",
       "Orthic Regosol         2\n",
       "Dystric nitosol        2\n",
       "Pinthic Acrisol        1\n",
       "GleyicCambisol         1\n",
       "Cambic Arenosoll       1\n",
       "Oxic Luvisol           1\n",
       "Dystric regosol        1\n",
       "Eutric Gambisol        1\n",
       "Dystric Gleysols       1\n",
       "Calcic Luvisol         1\n",
       "Chromic  Luvisol       1\n",
       "Chromic Vertisol       1\n",
       "plinthic Luvisol       1\n",
       "Chromic Cambisol       1\n",
       "Orhic Acrisol          1\n",
       "Lithic Regosol         1\n",
       "Euric regosol          1\n",
       "Vertic Cambisol        1\n",
       "Name: SOIL_CLA_1,C,50, dtype: int64"
      ]
     },
     "execution_count": 264,
     "metadata": {},
     "output_type": "execute_result"
    }
   ],
   "source": [
    "df[\"SOIL_CLA_1,C,50\"].value_counts()"
   ]
  },
  {
   "cell_type": "code",
   "execution_count": 265,
   "metadata": {},
   "outputs": [],
   "source": [
    "df[\"SOIL_CLA_1,C,50\"].replace([\"Gleyic Cambisol\", \"Orthic Luvisol\", \"Orthic Acrisol\", \"Dystric Cambisol\", \"Dystric Nitosol\", \"Dystric Regosol\", \"Eutric Cambisol\", \"Eutric Regosol\", \"Humic Gleysol\", \"Gleyic Luvisol\", \"Lithosol\", \"Chromic Luvisol\", \"Ferric Acrisol\", \"Gleyic Regosol\", \"Eutric Fluvisol\", \"Dystric Fluvisol\", \"Ferric Luvisol\", \"Eutric Gleysol\", \"Eutric cambisol\", \"Typic Ustifluvent\", \"Dystric Gleysol\", \"Dystric Acrisol\", \"Plinthic Acrisol\", \"Eutric Nitosol\", \"Dystric cambisol\", \"Plinthic Luvisol\", \"Dystric nitosol\", \"Vertic Luvisol\", \"Eustric Regosol\", \"Gleyic Acrisol\", \"Cleyic Luvisol\", \"Ferric Cambisol\", \"Eutric regosol\", \"Orthic Regosol\", \"Orhic Acrisol\", \"Chromic Vertisol\", \"Calcic Luvisol\", \"GleyicCambisol\", \"Vertic Cambisol\", \"Chromic Cambisol\", \"Euric regosol\", \"Dystric Gleysols\", \"plinthic Luvisol\", \"Oxic Luvisol\", \"Cambic Arenosoll\", \"Eutric Gambisol\", \"Chromic  Luvisol\", \"Pinthic Acrisol\", \"Dystric regosol\", \"Lithic Regosol\"],\n",
    "                             [0, 1, 2, 3, 4, 5, 6, 7, 8, 9, 10, 11, 12, 13, 14, 15, 16, 17, 18, 19, 20, 21, 22, 23, 24, 25, 26, 27, 28, 29, 30, 31, 32, 33, 34, 35, 36, 37, 38, 39, 40, 41, 42, 43, 44, 45, 46, 47, 48, 49], inplace = True)"
   ]
  },
  {
   "cell_type": "code",
   "execution_count": 266,
   "metadata": {},
   "outputs": [
    {
     "data": {
      "text/plain": [
       "0       3\n",
       "1       2\n",
       "2      29\n",
       "3       0\n",
       "4      14\n",
       "       ..\n",
       "653     5\n",
       "654    13\n",
       "655     5\n",
       "656     0\n",
       "657     1\n",
       "Name: SOIL_CLA_1,C,50, Length: 658, dtype: int64"
      ]
     },
     "execution_count": 266,
     "metadata": {},
     "output_type": "execute_result"
    }
   ],
   "source": [
    "df[\"SOIL_CLA_1,C,50\"]"
   ]
  },
  {
   "cell_type": "code",
   "execution_count": 267,
   "metadata": {},
   "outputs": [
    {
     "data": {
      "text/plain": [
       "Sorghum,Millet,Cowpea,Cotton,G.nuts,Beans,Maize,Yam                                              89\n",
       "Sugarcane,Cassava,Yam,Irish Potatoes,Cocoa,Rubber,Groundnut,MilletSorghum,Cowpea,Rice,OilPalm    47\n",
       "Yam, Rice,Maize, Millet,Irish Potatoes                                                           42\n",
       "Sorghum,Cotton,Groundnut,Millet,Cowpea,Maize,Cocoa yam,Cassava                                   34\n",
       "Yam,Rice,Cassava,Maize,Cocoa,OilPalm                                                             31\n",
       "Vegetables,Sorghum,Yam,Maize,Rice,Cow Pea, Millet,Cotton,  Banana                                31\n",
       "Yam,Rice,Cassava,OilPalm,Plantain,Vegetables                                                     29\n",
       "Maize, Rice,Cassava,Yam,Cocoa,Oil Palm                                                           29\n",
       "Yam,Sorghum,Cassava,Groundnut,Maize,Cotton,Cocoa                                                 26\n",
       "Yam,Rice,Cass,SugarCan,Millets,Groundnut,Sorghum,Bean,Cowpea,Cotton,Cassava                      25\n",
       "Groundnut,Sorghum,Cotton,Maize,Millet,Cowpea                                                     24\n",
       "Yam,Fruits,Rice,Cassava,OilPalm,,Coconuts,Vegetables                                             23\n",
       "Yam,Rice,Cassava,Plantain,Banana,Cocoa,OilPalm,Fruits and Vegetables                             19\n",
       "Sorghum,Cotton,Groundnut,Millet,Cowpea,Maize                                                     16\n",
       "Cassava,Yam,Rice,Maize.Cocoa,Oil palm,Millet,Sorghum, Cowpea,Cotton,Groundnut                    15\n",
       "Cassava,Yam,Plantain,Oil Palm,Sorghum,Acha,Maize,Rice,Irish Potatoes, Millet,Cotton              15\n",
       "Yam,Rice,Maize,Sorghum,Groundnut,Millet,Cottom                                                   14\n",
       "Sorghum,Maize,Yam,Cassava,Millet,Upland rice                                                     13\n",
       "Sorghum,Millet,Cowpea,Cotton,Maize,Yam,Vegetables,Rice                                           13\n",
       "Cassava,Yam,Rice,Maize,Oil palm,Plantain,Vegetables                                              12\n",
       "Groundnut,Millet,Cotton,Tobacco,Vegetables                                                       10\n",
       "Sorghum,Cowpea,Millet,Cottom, Maize.                                                              8\n",
       "Yam,Maize,Rice,Cassava,OilPalm,Cocoa,Coconuts,Vegetables                                          8\n",
       "Yam,Rice,Cassava,Plantain,Banana,Cocoa,OilPalm,Vegetables                                         8\n",
       "Rice,Yam,Cassava,Plantain,Sorghum,Millet,Cowpea,Maize and vegetables                              7\n",
       "Sorghum,Maize,Yam,Cassava,Millet,Upland rice.                                                     7\n",
       "Sorghum,Millet,Maize,Yam,Cassava,Rice,Vegetable                                                   6\n",
       "Cassava,Yam,Millet,Sorghum,Maize,Rice,vegetables                                                  5\n",
       "Sorghum,Cotton,Groundnut,Millet,Cowpea,Maize,Yam,Irish Potatoes                                   5\n",
       "Yam,Rice,Cass,Plantain,MaizeBana,Cocoa,OilPalm,Fruits,Vegetables                                  5\n",
       "Sorghum,G.Nuts,Cowpea,Irish Potatoes,Yam,Cassava                                                  5\n",
       "Yam,Rice,Maize,Cassava,Cocoa,OilPalm,Fruits                                                       4\n",
       "Yam,Rice,Cassava,Maize,Cocoa,Plantain,OilPalm,Vegetables                                          4\n",
       "Cassava, Yam,Plantain,Maize,Oil Palm,Vegetables                                                   4\n",
       "Yam,Rice,Cass,Plantain,Maize,Cocoa,OilPalm,Rubber,Vegetables                                      4\n",
       "Millets, Groundnut,Maize,Cotton,Sorghum,Tobacco and Vegetables                                    3\n",
       "Yam,Rice,Maize,Cassava,Cocoa,OilPalm                                                              3\n",
       "Sorghum,Cotton,Groundnut,Millet,Sugarcane,Maize                                                   3\n",
       "Cassava,Yam,Rice,Cocoa,Oil palm,Plantain, Banana,Vegetables                                       3\n",
       "Sorghum,Millet,Irish Potatoes,Maize,Yam,Cocoayams.                                                2\n",
       "Yam,Rice,Cass,Plantain,Bana,Cocoa,OilPalm,Vegetables                                              2\n",
       "Sorghum,Millet,Cowpea,Groundnut,Maize and Cotton                                                  1\n",
       "Cassava,Yam,Rice,Cocoa,Oil palm, Maize                                                            1\n",
       "Cassava, Yam,Rice, Plantain,Maize,Oil Palm,vegetables                                             1\n",
       "-                                                                                                 1\n",
       "Tobbaco,Cotton,Millet,Upland rice,Guinea Corn,Groundnut,Maize                                     1\n",
       "Name: MAJOR_CROP,C,120, dtype: int64"
      ]
     },
     "execution_count": 267,
     "metadata": {},
     "output_type": "execute_result"
    }
   ],
   "source": [
    "df[\"MAJOR_CROP,C,120\"].value_counts()"
   ]
  },
  {
   "cell_type": "code",
   "execution_count": 268,
   "metadata": {},
   "outputs": [],
   "source": [
    "df[\"MAJOR_CROP,C,120\"].replace([\"Sorghum,Millet,Cowpea,Cotton,G.nuts,Beans,Maize,Yam\", \"Sugarcane,Cassava,Yam,Irish Potatoes,Cocoa,Rubber,Groundnut,MilletSorghum,Cowpea,Rice,OilPalm\", \"Yam, Rice,Maize, Millet,Irish Potatoes\", \"Sorghum,Cotton,Groundnut,Millet,Cowpea,Maize,Cocoa yam,Cassava\", \"Yam,Rice,Cassava,Maize,Cocoa,OilPalm\", \"Vegetables,Sorghum,Yam,Maize,Rice,Cow Pea, Millet,Cotton,  Banana\", \"Yam,Rice,Cassava,OilPalm,Plantain,Vegetables\", \"Maize, Rice,Cassava,Yam,Cocoa,Oil Palm\", \"Maize, Rice,Cassava,Yam,Cocoa,Oil Palm\", \"Yam,Sorghum,Cassava,Groundnut,Maize,Cotton,Cocoa\", \"Yam,Rice,Cass,SugarCan,Millets,Groundnut,Sorghum,Bean,Cowpea,Cotton,Cassava\", \"Groundnut,Sorghum,Cotton,Maize,Millet,Cowpea\", \"Yam,Fruits,Rice,Cassava,OilPalm,,Coconuts,Vegetables\", \"Yam,Rice,Cassava,Plantain,Banana,Cocoa,OilPalm,Fruits and Vegetables\", \"Sorghum,Cotton,Groundnut,Millet,Cowpea,Maize\", \"Cassava,Yam,Rice,Maize.Cocoa,Oil palm,Millet,Sorghum, Cowpea,Cotton,Groundnut\", \"Cassava,Yam,Plantain,Oil Palm,Sorghum,Acha,Maize,Rice,Irish Potatoes, Millet,Cotton\", \"Yam,Rice,Maize,Sorghum,Groundnut,Millet,Cottom\", \"Sorghum,Maize,Yam,Cassava,Millet,Upland rice\", \"Sorghum,Millet,Cowpea,Cotton,Maize,Yam,Vegetables,Rice\", \"Cassava,Yam,Rice,Maize,Oil palm,Plantain,Vegetables\", \"Groundnut,Millet,Cotton,Tobacco,Vegetables\", \"Sorghum,Cowpea,Millet,Cottom, Maize.\", \"Yam,Maize,Rice,Cassava,OilPalm,Cocoa,Coconuts,Vegetables\", \"Yam,Rice,Cassava,Plantain,Banana,Cocoa,OilPalm,Vegetables\", \"Rice,Yam,Cassava,Plantain,Sorghum,Millet,Cowpea,Maize and vegetables\", \"Sorghum,Maize,Yam,Cassava,Millet,Upland rice.\", \"Sorghum,Millet,Maize,Yam,Cassava,Rice,Vegetable\", \"Sorghum,Cotton,Groundnut,Millet,Cowpea,Maize,Yam,Irish Potatoes\", \"Cassava,Yam,Millet,Sorghum,Maize,Rice,vegetables\", \"Yam,Rice,Cass,Plantain,MaizeBana,Cocoa,OilPalm,Fruits,Vegetables\", \"Sorghum,G.Nuts,Cowpea,Irish Potatoes,Yam,Cassava\", \"Cassava, Yam,Plantain,Maize,Oil Palm,Vegetables\", \"Yam,Rice,Cass,Plantain,Maize,Cocoa,OilPalm,Rubber,Vegetables\", \"Sorghum,G.Nuts,Cowpea,Irish Potatoes,Yam,Cassava\", \"Cassava, Yam,Plantain,Maize,Oil Palm,Vegetables\", \"Yam,Rice,Cass,Plantain,Maize,Cocoa,OilPalm,Rubber,Vegetables\", \"Yam,Rice,Maize,Cassava,Cocoa,OilPalm,Fruits\", \"Yam,Rice,Cassava,Maize,Cocoa,Plantain,OilPalm,Vegetables\", \"Cassava,Yam,Rice,Cocoa,Oil palm,Plantain, Banana,Vegetables\", \"Yam,Rice,Maize,Cassava,Cocoa,OilPalm\", \"Sorghum,Cotton,Groundnut,Millet,Sugarcane,Maize\", \"Millets, Groundnut,Maize,Cotton,Sorghum,Tobacco and Vegetables\", \"Sorghum,Millet,Irish Potatoes,Maize,Yam,Cocoayams.\", \"Yam,Rice,Cass,Plantain,Bana,Cocoa,OilPalm,Vegetables\", \"Tobbaco,Cotton,Millet,Upland rice,Guinea Corn,Groundnut,Maize\", \"Sorghum,Millet,Cowpea,Groundnut,Maize and Cotton\", \"-\", \"Cassava,Yam,Rice,Cocoa,Oil palm, Maize\", \"Cassava, Yam,Rice, Plantain,Maize,Oil Palm,vegetables\"],\n",
    "                              [0, 1, 2, 3, 4, 5, 6, 7, 8, 9, 10, 11, 12, 13, 14, 15, 16, 17, 18, 19, 20, 21, 22, 23, 24, 25, 26, 27, 28, 29, 30, 31, 32, 33, 34, 35, 36, 37, 38, 39, 40, 41, 42, 43, 44, 45, 46, 47, 48, 49], inplace = True)"
   ]
  },
  {
   "cell_type": "code",
   "execution_count": 269,
   "metadata": {
    "scrolled": true
   },
   "outputs": [
    {
     "data": {
      "text/plain": [
       "0      18\n",
       "1      26\n",
       "2       2\n",
       "3       0\n",
       "4       2\n",
       "       ..\n",
       "653    13\n",
       "654    13\n",
       "655    13\n",
       "656    11\n",
       "657    21\n",
       "Name: MAJOR_CROP,C,120, Length: 658, dtype: int64"
      ]
     },
     "execution_count": 269,
     "metadata": {},
     "output_type": "execute_result"
    }
   ],
   "source": [
    "df[\"MAJOR_CROP,C,120\"]"
   ]
  },
  {
   "cell_type": "code",
   "execution_count": 270,
   "metadata": {},
   "outputs": [
    {
     "data": {
      "text/plain": [
       "Deep, Mostly Deep             338\n",
       "Shallow                       122\n",
       "Very Deep                     103\n",
       "Moderately, Generally Deep     95\n",
       "Name: Depth,C,50, dtype: int64"
      ]
     },
     "execution_count": 270,
     "metadata": {},
     "output_type": "execute_result"
    }
   ],
   "source": [
    "df[\"Depth,C,50\"].value_counts()"
   ]
  },
  {
   "cell_type": "code",
   "execution_count": 271,
   "metadata": {},
   "outputs": [],
   "source": [
    "df[\"Depth,C,50\"].replace([\"Deep, Mostly Deep\", \"Shallow\", \"Very Deep\", \"Moderately, Generally Deep\"],\n",
    "                        [0, 1, 2, 3], inplace = True)"
   ]
  },
  {
   "cell_type": "code",
   "execution_count": 272,
   "metadata": {},
   "outputs": [
    {
     "data": {
      "text/plain": [
       "0      0\n",
       "1      1\n",
       "2      0\n",
       "3      1\n",
       "4      0\n",
       "      ..\n",
       "653    0\n",
       "654    0\n",
       "655    0\n",
       "656    0\n",
       "657    2\n",
       "Name: Depth,C,50, Length: 658, dtype: int64"
      ]
     },
     "execution_count": 272,
     "metadata": {},
     "output_type": "execute_result"
    }
   ],
   "source": [
    "df[\"Depth,C,50\"]"
   ]
  },
  {
   "cell_type": "code",
   "execution_count": 273,
   "metadata": {},
   "outputs": [
    {
     "data": {
      "text/html": [
       "<div>\n",
       "<style scoped>\n",
       "    .dataframe tbody tr th:only-of-type {\n",
       "        vertical-align: middle;\n",
       "    }\n",
       "\n",
       "    .dataframe tbody tr th {\n",
       "        vertical-align: top;\n",
       "    }\n",
       "\n",
       "    .dataframe thead th {\n",
       "        text-align: right;\n",
       "    }\n",
       "</style>\n",
       "<table border=\"1\" class=\"dataframe\">\n",
       "  <thead>\n",
       "    <tr style=\"text-align: right;\">\n",
       "      <th></th>\n",
       "      <th>ID,N,8,0</th>\n",
       "      <th>MAPPING_UN,C,16</th>\n",
       "      <th>GEOLOGY,C,80</th>\n",
       "      <th>SLOPE,C,30</th>\n",
       "      <th>ECOLOGICAL,C,50</th>\n",
       "      <th>DRAINAGE,C,70</th>\n",
       "      <th>SOIL_PH,C,30</th>\n",
       "      <th>PH_DESCRIP,C,50</th>\n",
       "      <th>SUITABILIT,C,70</th>\n",
       "      <th>SOIL_TEXTU,C,50</th>\n",
       "      <th>SOIL_CLASS,C,50</th>\n",
       "      <th>VEGETATION,C,120</th>\n",
       "      <th>DISTRIBUTI,C,50</th>\n",
       "      <th>SOIL_CLA_1,C,50</th>\n",
       "      <th>PERCENTAGE,C,50</th>\n",
       "      <th>MAJOR_CROP,C,120</th>\n",
       "      <th>Depth,C,50</th>\n",
       "    </tr>\n",
       "  </thead>\n",
       "  <tbody>\n",
       "    <tr>\n",
       "      <th>0</th>\n",
       "      <td>1</td>\n",
       "      <td>33</td>\n",
       "      <td>10</td>\n",
       "      <td>0</td>\n",
       "      <td>0</td>\n",
       "      <td>0</td>\n",
       "      <td>16</td>\n",
       "      <td>2</td>\n",
       "      <td>1</td>\n",
       "      <td>0</td>\n",
       "      <td>114</td>\n",
       "      <td>201</td>\n",
       "      <td>15</td>\n",
       "      <td>3</td>\n",
       "      <td>0.247247</td>\n",
       "      <td>18</td>\n",
       "      <td>0</td>\n",
       "    </tr>\n",
       "    <tr>\n",
       "      <th>1</th>\n",
       "      <td>2</td>\n",
       "      <td>52</td>\n",
       "      <td>19</td>\n",
       "      <td>3</td>\n",
       "      <td>0</td>\n",
       "      <td>4</td>\n",
       "      <td>16</td>\n",
       "      <td>2</td>\n",
       "      <td>3</td>\n",
       "      <td>1</td>\n",
       "      <td>92</td>\n",
       "      <td>217</td>\n",
       "      <td>22</td>\n",
       "      <td>2</td>\n",
       "      <td>0.026982</td>\n",
       "      <td>26</td>\n",
       "      <td>1</td>\n",
       "    </tr>\n",
       "    <tr>\n",
       "      <th>2</th>\n",
       "      <td>3</td>\n",
       "      <td>4</td>\n",
       "      <td>3</td>\n",
       "      <td>0</td>\n",
       "      <td>1</td>\n",
       "      <td>1</td>\n",
       "      <td>5</td>\n",
       "      <td>1</td>\n",
       "      <td>0</td>\n",
       "      <td>1</td>\n",
       "      <td>117</td>\n",
       "      <td>231</td>\n",
       "      <td>2</td>\n",
       "      <td>29</td>\n",
       "      <td>0.454846</td>\n",
       "      <td>2</td>\n",
       "      <td>0</td>\n",
       "    </tr>\n",
       "    <tr>\n",
       "      <th>3</th>\n",
       "      <td>5</td>\n",
       "      <td>57</td>\n",
       "      <td>0</td>\n",
       "      <td>2</td>\n",
       "      <td>0</td>\n",
       "      <td>0</td>\n",
       "      <td>0</td>\n",
       "      <td>0</td>\n",
       "      <td>2</td>\n",
       "      <td>0</td>\n",
       "      <td>119</td>\n",
       "      <td>231</td>\n",
       "      <td>0</td>\n",
       "      <td>0</td>\n",
       "      <td>0.241189</td>\n",
       "      <td>0</td>\n",
       "      <td>1</td>\n",
       "    </tr>\n",
       "    <tr>\n",
       "      <th>4</th>\n",
       "      <td>4</td>\n",
       "      <td>4</td>\n",
       "      <td>3</td>\n",
       "      <td>0</td>\n",
       "      <td>1</td>\n",
       "      <td>1</td>\n",
       "      <td>5</td>\n",
       "      <td>1</td>\n",
       "      <td>0</td>\n",
       "      <td>1</td>\n",
       "      <td>104</td>\n",
       "      <td>22</td>\n",
       "      <td>2</td>\n",
       "      <td>14</td>\n",
       "      <td>0.454846</td>\n",
       "      <td>2</td>\n",
       "      <td>0</td>\n",
       "    </tr>\n",
       "    <tr>\n",
       "      <th>...</th>\n",
       "      <td>...</td>\n",
       "      <td>...</td>\n",
       "      <td>...</td>\n",
       "      <td>...</td>\n",
       "      <td>...</td>\n",
       "      <td>...</td>\n",
       "      <td>...</td>\n",
       "      <td>...</td>\n",
       "      <td>...</td>\n",
       "      <td>...</td>\n",
       "      <td>...</td>\n",
       "      <td>...</td>\n",
       "      <td>...</td>\n",
       "      <td>...</td>\n",
       "      <td>...</td>\n",
       "      <td>...</td>\n",
       "      <td>...</td>\n",
       "    </tr>\n",
       "    <tr>\n",
       "      <th>653</th>\n",
       "      <td>667</td>\n",
       "      <td>2</td>\n",
       "      <td>7</td>\n",
       "      <td>0</td>\n",
       "      <td>1</td>\n",
       "      <td>1</td>\n",
       "      <td>15</td>\n",
       "      <td>1</td>\n",
       "      <td>0</td>\n",
       "      <td>4</td>\n",
       "      <td>119</td>\n",
       "      <td>225</td>\n",
       "      <td>11</td>\n",
       "      <td>5</td>\n",
       "      <td>0.009361</td>\n",
       "      <td>13</td>\n",
       "      <td>0</td>\n",
       "    </tr>\n",
       "    <tr>\n",
       "      <th>654</th>\n",
       "      <td>668</td>\n",
       "      <td>2</td>\n",
       "      <td>7</td>\n",
       "      <td>0</td>\n",
       "      <td>1</td>\n",
       "      <td>1</td>\n",
       "      <td>15</td>\n",
       "      <td>1</td>\n",
       "      <td>0</td>\n",
       "      <td>4</td>\n",
       "      <td>91</td>\n",
       "      <td>225</td>\n",
       "      <td>11</td>\n",
       "      <td>13</td>\n",
       "      <td>0.009361</td>\n",
       "      <td>13</td>\n",
       "      <td>0</td>\n",
       "    </tr>\n",
       "    <tr>\n",
       "      <th>655</th>\n",
       "      <td>669</td>\n",
       "      <td>2</td>\n",
       "      <td>7</td>\n",
       "      <td>0</td>\n",
       "      <td>1</td>\n",
       "      <td>1</td>\n",
       "      <td>15</td>\n",
       "      <td>1</td>\n",
       "      <td>0</td>\n",
       "      <td>4</td>\n",
       "      <td>91</td>\n",
       "      <td>222</td>\n",
       "      <td>11</td>\n",
       "      <td>5</td>\n",
       "      <td>0.009361</td>\n",
       "      <td>13</td>\n",
       "      <td>0</td>\n",
       "    </tr>\n",
       "    <tr>\n",
       "      <th>656</th>\n",
       "      <td>670</td>\n",
       "      <td>7</td>\n",
       "      <td>5</td>\n",
       "      <td>0</td>\n",
       "      <td>1</td>\n",
       "      <td>1</td>\n",
       "      <td>13</td>\n",
       "      <td>5</td>\n",
       "      <td>0</td>\n",
       "      <td>1</td>\n",
       "      <td>115</td>\n",
       "      <td>227</td>\n",
       "      <td>9</td>\n",
       "      <td>0</td>\n",
       "      <td>0.038546</td>\n",
       "      <td>11</td>\n",
       "      <td>0</td>\n",
       "    </tr>\n",
       "    <tr>\n",
       "      <th>657</th>\n",
       "      <td>671</td>\n",
       "      <td>31</td>\n",
       "      <td>14</td>\n",
       "      <td>0</td>\n",
       "      <td>0</td>\n",
       "      <td>2</td>\n",
       "      <td>22</td>\n",
       "      <td>3</td>\n",
       "      <td>1</td>\n",
       "      <td>1</td>\n",
       "      <td>43</td>\n",
       "      <td>214</td>\n",
       "      <td>23</td>\n",
       "      <td>1</td>\n",
       "      <td>0.029185</td>\n",
       "      <td>21</td>\n",
       "      <td>2</td>\n",
       "    </tr>\n",
       "  </tbody>\n",
       "</table>\n",
       "<p>658 rows × 17 columns</p>\n",
       "</div>"
      ],
      "text/plain": [
       "     ID,N,8,0  MAPPING_UN,C,16  GEOLOGY,C,80  SLOPE,C,30  ECOLOGICAL,C,50  \\\n",
       "0           1               33            10           0                0   \n",
       "1           2               52            19           3                0   \n",
       "2           3                4             3           0                1   \n",
       "3           5               57             0           2                0   \n",
       "4           4                4             3           0                1   \n",
       "..        ...              ...           ...         ...              ...   \n",
       "653       667                2             7           0                1   \n",
       "654       668                2             7           0                1   \n",
       "655       669                2             7           0                1   \n",
       "656       670                7             5           0                1   \n",
       "657       671               31            14           0                0   \n",
       "\n",
       "     DRAINAGE,C,70  SOIL_PH,C,30  PH_DESCRIP,C,50  SUITABILIT,C,70  \\\n",
       "0                0            16                2                1   \n",
       "1                4            16                2                3   \n",
       "2                1             5                1                0   \n",
       "3                0             0                0                2   \n",
       "4                1             5                1                0   \n",
       "..             ...           ...              ...              ...   \n",
       "653              1            15                1                0   \n",
       "654              1            15                1                0   \n",
       "655              1            15                1                0   \n",
       "656              1            13                5                0   \n",
       "657              2            22                3                1   \n",
       "\n",
       "     SOIL_TEXTU,C,50  SOIL_CLASS,C,50  VEGETATION,C,120  DISTRIBUTI,C,50  \\\n",
       "0                  0              114               201               15   \n",
       "1                  1               92               217               22   \n",
       "2                  1              117               231                2   \n",
       "3                  0              119               231                0   \n",
       "4                  1              104                22                2   \n",
       "..               ...              ...               ...              ...   \n",
       "653                4              119               225               11   \n",
       "654                4               91               225               11   \n",
       "655                4               91               222               11   \n",
       "656                1              115               227                9   \n",
       "657                1               43               214               23   \n",
       "\n",
       "     SOIL_CLA_1,C,50  PERCENTAGE,C,50  MAJOR_CROP,C,120  Depth,C,50  \n",
       "0                  3         0.247247                18           0  \n",
       "1                  2         0.026982                26           1  \n",
       "2                 29         0.454846                 2           0  \n",
       "3                  0         0.241189                 0           1  \n",
       "4                 14         0.454846                 2           0  \n",
       "..               ...              ...               ...         ...  \n",
       "653                5         0.009361                13           0  \n",
       "654               13         0.009361                13           0  \n",
       "655                5         0.009361                13           0  \n",
       "656                0         0.038546                11           0  \n",
       "657                1         0.029185                21           2  \n",
       "\n",
       "[658 rows x 17 columns]"
      ]
     },
     "metadata": {},
     "output_type": "display_data"
    }
   ],
   "source": [
    "df_min_max = df.copy()\n",
    "column = \"PERCENTAGE,C,50\"\n",
    "df_min_max[column] = (df_min_max[column] - df_min_max[column].min()) /(df_min_max[column].max() - df_min_max[column].min())\n",
    "display(df_min_max)"
   ]
  },
  {
   "cell_type": "code",
   "execution_count": 274,
   "metadata": {},
   "outputs": [
    {
     "name": "stdout",
     "output_type": "stream",
     "text": [
      "<class 'pandas.core.frame.DataFrame'>\n",
      "RangeIndex: 658 entries, 0 to 657\n",
      "Data columns (total 17 columns):\n",
      " #   Column            Non-Null Count  Dtype  \n",
      "---  ------            --------------  -----  \n",
      " 0   ID,N,8,0          658 non-null    int64  \n",
      " 1   MAPPING_UN,C,16   658 non-null    int64  \n",
      " 2   GEOLOGY,C,80      658 non-null    int64  \n",
      " 3   SLOPE,C,30        658 non-null    int64  \n",
      " 4   ECOLOGICAL,C,50   658 non-null    int64  \n",
      " 5   DRAINAGE,C,70     658 non-null    int64  \n",
      " 6   SOIL_PH,C,30      658 non-null    int64  \n",
      " 7   PH_DESCRIP,C,50   658 non-null    int64  \n",
      " 8   SUITABILIT,C,70   658 non-null    int64  \n",
      " 9   SOIL_TEXTU,C,50   658 non-null    int64  \n",
      " 10  SOIL_CLASS,C,50   658 non-null    int64  \n",
      " 11  VEGETATION,C,120  658 non-null    int64  \n",
      " 12  DISTRIBUTI,C,50   658 non-null    int64  \n",
      " 13  SOIL_CLA_1,C,50   658 non-null    int64  \n",
      " 14  PERCENTAGE,C,50   658 non-null    float64\n",
      " 15  MAJOR_CROP,C,120  658 non-null    int64  \n",
      " 16  Depth,C,50        658 non-null    int64  \n",
      "dtypes: float64(1), int64(16)\n",
      "memory usage: 87.5 KB\n"
     ]
    }
   ],
   "source": [
    "df.info()"
   ]
  },
  {
   "cell_type": "code",
   "execution_count": 275,
   "metadata": {},
   "outputs": [
    {
     "data": {
      "text/html": [
       "<div>\n",
       "<style scoped>\n",
       "    .dataframe tbody tr th:only-of-type {\n",
       "        vertical-align: middle;\n",
       "    }\n",
       "\n",
       "    .dataframe tbody tr th {\n",
       "        vertical-align: top;\n",
       "    }\n",
       "\n",
       "    .dataframe thead th {\n",
       "        text-align: right;\n",
       "    }\n",
       "</style>\n",
       "<table border=\"1\" class=\"dataframe\">\n",
       "  <thead>\n",
       "    <tr style=\"text-align: right;\">\n",
       "      <th></th>\n",
       "      <th>ID,N,8,0</th>\n",
       "      <th>MAPPING_UN,C,16</th>\n",
       "      <th>GEOLOGY,C,80</th>\n",
       "      <th>SLOPE,C,30</th>\n",
       "      <th>ECOLOGICAL,C,50</th>\n",
       "      <th>DRAINAGE,C,70</th>\n",
       "      <th>SOIL_PH,C,30</th>\n",
       "      <th>PH_DESCRIP,C,50</th>\n",
       "      <th>SUITABILIT,C,70</th>\n",
       "      <th>SOIL_TEXTU,C,50</th>\n",
       "      <th>SOIL_CLASS,C,50</th>\n",
       "      <th>VEGETATION,C,120</th>\n",
       "      <th>DISTRIBUTI,C,50</th>\n",
       "      <th>SOIL_CLA_1,C,50</th>\n",
       "      <th>PERCENTAGE,C,50</th>\n",
       "      <th>MAJOR_CROP,C,120</th>\n",
       "      <th>Depth,C,50</th>\n",
       "    </tr>\n",
       "  </thead>\n",
       "  <tbody>\n",
       "    <tr>\n",
       "      <th>count</th>\n",
       "      <td>658.000000</td>\n",
       "      <td>658.000000</td>\n",
       "      <td>658.000000</td>\n",
       "      <td>658.000000</td>\n",
       "      <td>658.000000</td>\n",
       "      <td>658.000000</td>\n",
       "      <td>658.000000</td>\n",
       "      <td>658.000000</td>\n",
       "      <td>658.00000</td>\n",
       "      <td>658.000000</td>\n",
       "      <td>658.000000</td>\n",
       "      <td>658.000000</td>\n",
       "      <td>658.000000</td>\n",
       "      <td>658.000000</td>\n",
       "      <td>658.000000</td>\n",
       "      <td>658.000000</td>\n",
       "      <td>658.000000</td>\n",
       "    </tr>\n",
       "    <tr>\n",
       "      <th>mean</th>\n",
       "      <td>336.765957</td>\n",
       "      <td>33.300912</td>\n",
       "      <td>5.457447</td>\n",
       "      <td>1.296353</td>\n",
       "      <td>0.524316</td>\n",
       "      <td>0.855623</td>\n",
       "      <td>12.241641</td>\n",
       "      <td>2.311550</td>\n",
       "      <td>1.06231</td>\n",
       "      <td>0.917933</td>\n",
       "      <td>98.050152</td>\n",
       "      <td>183.983283</td>\n",
       "      <td>12.661094</td>\n",
       "      <td>6.785714</td>\n",
       "      <td>4.023936</td>\n",
       "      <td>10.945289</td>\n",
       "      <td>0.931611</td>\n",
       "    </tr>\n",
       "    <tr>\n",
       "      <th>std</th>\n",
       "      <td>195.315925</td>\n",
       "      <td>19.357583</td>\n",
       "      <td>7.348812</td>\n",
       "      <td>1.941775</td>\n",
       "      <td>0.810989</td>\n",
       "      <td>1.031678</td>\n",
       "      <td>11.171595</td>\n",
       "      <td>2.660705</td>\n",
       "      <td>1.08290</td>\n",
       "      <td>1.336508</td>\n",
       "      <td>26.604761</td>\n",
       "      <td>65.572654</td>\n",
       "      <td>12.892568</td>\n",
       "      <td>8.790716</td>\n",
       "      <td>4.558190</td>\n",
       "      <td>10.802364</td>\n",
       "      <td>1.115767</td>\n",
       "    </tr>\n",
       "    <tr>\n",
       "      <th>min</th>\n",
       "      <td>1.000000</td>\n",
       "      <td>0.000000</td>\n",
       "      <td>0.000000</td>\n",
       "      <td>0.000000</td>\n",
       "      <td>0.000000</td>\n",
       "      <td>0.000000</td>\n",
       "      <td>0.000000</td>\n",
       "      <td>0.000000</td>\n",
       "      <td>0.00000</td>\n",
       "      <td>0.000000</td>\n",
       "      <td>0.000000</td>\n",
       "      <td>0.000000</td>\n",
       "      <td>0.000000</td>\n",
       "      <td>0.000000</td>\n",
       "      <td>0.020000</td>\n",
       "      <td>0.000000</td>\n",
       "      <td>0.000000</td>\n",
       "    </tr>\n",
       "    <tr>\n",
       "      <th>25%</th>\n",
       "      <td>165.250000</td>\n",
       "      <td>17.000000</td>\n",
       "      <td>0.000000</td>\n",
       "      <td>0.000000</td>\n",
       "      <td>0.000000</td>\n",
       "      <td>0.000000</td>\n",
       "      <td>5.000000</td>\n",
       "      <td>0.000000</td>\n",
       "      <td>0.00000</td>\n",
       "      <td>0.000000</td>\n",
       "      <td>91.000000</td>\n",
       "      <td>164.250000</td>\n",
       "      <td>2.000000</td>\n",
       "      <td>1.000000</td>\n",
       "      <td>0.690000</td>\n",
       "      <td>2.000000</td>\n",
       "      <td>0.000000</td>\n",
       "    </tr>\n",
       "    <tr>\n",
       "      <th>50%</th>\n",
       "      <td>336.500000</td>\n",
       "      <td>35.000000</td>\n",
       "      <td>2.000000</td>\n",
       "      <td>1.000000</td>\n",
       "      <td>0.000000</td>\n",
       "      <td>1.000000</td>\n",
       "      <td>9.000000</td>\n",
       "      <td>2.000000</td>\n",
       "      <td>1.00000</td>\n",
       "      <td>0.000000</td>\n",
       "      <td>108.000000</td>\n",
       "      <td>219.000000</td>\n",
       "      <td>9.000000</td>\n",
       "      <td>3.000000</td>\n",
       "      <td>2.730000</td>\n",
       "      <td>8.000000</td>\n",
       "      <td>0.000000</td>\n",
       "    </tr>\n",
       "    <tr>\n",
       "      <th>75%</th>\n",
       "      <td>506.750000</td>\n",
       "      <td>51.000000</td>\n",
       "      <td>8.000000</td>\n",
       "      <td>2.000000</td>\n",
       "      <td>1.000000</td>\n",
       "      <td>1.000000</td>\n",
       "      <td>16.000000</td>\n",
       "      <td>3.000000</td>\n",
       "      <td>2.00000</td>\n",
       "      <td>1.000000</td>\n",
       "      <td>117.000000</td>\n",
       "      <td>229.000000</td>\n",
       "      <td>19.000000</td>\n",
       "      <td>10.000000</td>\n",
       "      <td>4.510000</td>\n",
       "      <td>16.000000</td>\n",
       "      <td>2.000000</td>\n",
       "    </tr>\n",
       "    <tr>\n",
       "      <th>max</th>\n",
       "      <td>671.000000</td>\n",
       "      <td>57.000000</td>\n",
       "      <td>33.000000</td>\n",
       "      <td>9.000000</td>\n",
       "      <td>3.000000</td>\n",
       "      <td>4.000000</td>\n",
       "      <td>52.000000</td>\n",
       "      <td>13.000000</td>\n",
       "      <td>3.00000</td>\n",
       "      <td>7.000000</td>\n",
       "      <td>119.000000</td>\n",
       "      <td>231.000000</td>\n",
       "      <td>55.000000</td>\n",
       "      <td>49.000000</td>\n",
       "      <td>18.180000</td>\n",
       "      <td>49.000000</td>\n",
       "      <td>3.000000</td>\n",
       "    </tr>\n",
       "  </tbody>\n",
       "</table>\n",
       "</div>"
      ],
      "text/plain": [
       "         ID,N,8,0  MAPPING_UN,C,16  GEOLOGY,C,80  SLOPE,C,30  ECOLOGICAL,C,50  \\\n",
       "count  658.000000       658.000000    658.000000  658.000000       658.000000   \n",
       "mean   336.765957        33.300912      5.457447    1.296353         0.524316   \n",
       "std    195.315925        19.357583      7.348812    1.941775         0.810989   \n",
       "min      1.000000         0.000000      0.000000    0.000000         0.000000   \n",
       "25%    165.250000        17.000000      0.000000    0.000000         0.000000   \n",
       "50%    336.500000        35.000000      2.000000    1.000000         0.000000   \n",
       "75%    506.750000        51.000000      8.000000    2.000000         1.000000   \n",
       "max    671.000000        57.000000     33.000000    9.000000         3.000000   \n",
       "\n",
       "       DRAINAGE,C,70  SOIL_PH,C,30  PH_DESCRIP,C,50  SUITABILIT,C,70  \\\n",
       "count     658.000000    658.000000       658.000000        658.00000   \n",
       "mean        0.855623     12.241641         2.311550          1.06231   \n",
       "std         1.031678     11.171595         2.660705          1.08290   \n",
       "min         0.000000      0.000000         0.000000          0.00000   \n",
       "25%         0.000000      5.000000         0.000000          0.00000   \n",
       "50%         1.000000      9.000000         2.000000          1.00000   \n",
       "75%         1.000000     16.000000         3.000000          2.00000   \n",
       "max         4.000000     52.000000        13.000000          3.00000   \n",
       "\n",
       "       SOIL_TEXTU,C,50  SOIL_CLASS,C,50  VEGETATION,C,120  DISTRIBUTI,C,50  \\\n",
       "count       658.000000       658.000000        658.000000       658.000000   \n",
       "mean          0.917933        98.050152        183.983283        12.661094   \n",
       "std           1.336508        26.604761         65.572654        12.892568   \n",
       "min           0.000000         0.000000          0.000000         0.000000   \n",
       "25%           0.000000        91.000000        164.250000         2.000000   \n",
       "50%           0.000000       108.000000        219.000000         9.000000   \n",
       "75%           1.000000       117.000000        229.000000        19.000000   \n",
       "max           7.000000       119.000000        231.000000        55.000000   \n",
       "\n",
       "       SOIL_CLA_1,C,50  PERCENTAGE,C,50  MAJOR_CROP,C,120  Depth,C,50  \n",
       "count       658.000000       658.000000        658.000000  658.000000  \n",
       "mean          6.785714         4.023936         10.945289    0.931611  \n",
       "std           8.790716         4.558190         10.802364    1.115767  \n",
       "min           0.000000         0.020000          0.000000    0.000000  \n",
       "25%           1.000000         0.690000          2.000000    0.000000  \n",
       "50%           3.000000         2.730000          8.000000    0.000000  \n",
       "75%          10.000000         4.510000         16.000000    2.000000  \n",
       "max          49.000000        18.180000         49.000000    3.000000  "
      ]
     },
     "execution_count": 275,
     "metadata": {},
     "output_type": "execute_result"
    }
   ],
   "source": [
    "df.describe()"
   ]
  },
  {
   "cell_type": "markdown",
   "metadata": {},
   "source": [
    "# Ploting graph for numerical values"
   ]
  },
  {
   "cell_type": "code",
   "execution_count": 276,
   "metadata": {},
   "outputs": [
    {
     "data": {
      "image/png": "[encoded data removed]",
      "text/plain": [
       "<Figure size 1440x1080 with 20 Axes>"
      ]
     },
     "metadata": {
      "needs_background": "light"
     },
     "output_type": "display_data"
    }
   ],
   "source": [
    "df.hist(bins = 50, figsize = (20, 15))\n",
    "plt.show()"
   ]
  },
  {
   "cell_type": "markdown",
   "metadata": {},
   "source": [
    "# Checking for missing values"
   ]
  },
  {
   "cell_type": "code",
   "execution_count": 277,
   "metadata": {
    "scrolled": true
   },
   "outputs": [
    {
     "data": {
      "text/plain": [
       "ID,N,8,0            0\n",
       "MAPPING_UN,C,16     0\n",
       "GEOLOGY,C,80        0\n",
       "SLOPE,C,30          0\n",
       "ECOLOGICAL,C,50     0\n",
       "DRAINAGE,C,70       0\n",
       "SOIL_PH,C,30        0\n",
       "PH_DESCRIP,C,50     0\n",
       "SUITABILIT,C,70     0\n",
       "SOIL_TEXTU,C,50     0\n",
       "SOIL_CLASS,C,50     0\n",
       "VEGETATION,C,120    0\n",
       "DISTRIBUTI,C,50     0\n",
       "SOIL_CLA_1,C,50     0\n",
       "PERCENTAGE,C,50     0\n",
       "MAJOR_CROP,C,120    0\n",
       "Depth,C,50          0\n",
       "dtype: int64"
      ]
     },
     "execution_count": 277,
     "metadata": {},
     "output_type": "execute_result"
    }
   ],
   "source": [
    "df.isna().sum()"
   ]
  },
  {
   "cell_type": "code",
   "execution_count": 278,
   "metadata": {},
   "outputs": [
    {
     "data": {
      "text/plain": [
       "<658x1393 sparse matrix of type '<class 'numpy.float64'>'\n",
       "\twith 11186 stored elements in Compressed Sparse Row format>"
      ]
     },
     "execution_count": 278,
     "metadata": {},
     "output_type": "execute_result"
    }
   ],
   "source": [
    "from sklearn.preprocessing import OneHotEncoder\n",
    "from sklearn.compose import ColumnTransformer\n",
    "\n",
    "categorical_features = [\"ID,N,8,0\", \"MAPPING_UN,C,16\", \"GEOLOGY,C,80\", \"SLOPE,C,30\", \"ECOLOGICAL,C,50\", \"DRAINAGE,C,70\", \"SOIL_PH,C,30\", \"PH_DESCRIP,C,50\", \"SUITABILIT,C,70\", \"SOIL_TEXTU,C,50\", \"SOIL_CLASS,C,50\", \"VEGETATION,C,120\", \"DISTRIBUTI,C,50\", \"SOIL_CLA_1,C,50\", \"PERCENTAGE,C,50\", \"MAJOR_CROP,C,120\", \"Depth,C,50\"]\n",
    "one_hot = OneHotEncoder()\n",
    "transformer = ColumnTransformer([(\"one_hot\",\n",
    "                                   one_hot,\n",
    "                                   categorical_features)],\n",
    "                                   remainder = \"passthrough\")\n",
    "\n",
    "\n",
    "transformed_df = transformer.fit_transform(df)\n",
    "transformed_df\n"
   ]
  },
  {
   "cell_type": "code",
   "execution_count": 279,
   "metadata": {},
   "outputs": [
    {
     "data": {
      "text/plain": [
       "array([[1., 0., 0., ..., 0., 0., 0.],\n",
       "       [0., 1., 0., ..., 1., 0., 0.],\n",
       "       [0., 0., 1., ..., 0., 0., 0.],\n",
       "       ...,\n",
       "       [0., 0., 0., ..., 0., 0., 0.],\n",
       "       [0., 0., 0., ..., 0., 0., 0.],\n",
       "       [0., 0., 0., ..., 0., 1., 0.]])"
      ]
     },
     "execution_count": 279,
     "metadata": {},
     "output_type": "execute_result"
    }
   ],
   "source": [
    "transformed_df.toarray() # to show the array of the sparse matrix"
   ]
  },
  {
   "cell_type": "code",
   "execution_count": 280,
   "metadata": {},
   "outputs": [
    {
     "data": {
      "text/plain": [
       "array([[0, 0, 0, 0, 0, 1, 0, 0, 0, 0, 0, 0, 0, 0, 0, 0, 0],\n",
       "       [0, 0, 0, 0, 0, 0, 0, 1, 0, 0, 0, 0, 0, 0, 0, 0, 0],\n",
       "       [0, 0, 0, 0, 1, 0, 0, 0, 0, 0, 0, 0, 0, 0, 0, 0, 0],\n",
       "       [0, 0, 0, 0, 0, 0, 0, 0, 0, 0, 1, 0, 0, 0, 0, 0, 0],\n",
       "       [0, 0, 0, 1, 0, 0, 0, 0, 0, 0, 0, 0, 0, 0, 0, 0, 0],\n",
       "       [0, 1, 0, 0, 0, 0, 0, 0, 0, 0, 0, 0, 0, 0, 0, 0, 0],\n",
       "       [0, 0, 0, 0, 0, 0, 0, 0, 0, 0, 0, 0, 0, 1, 0, 0, 0],\n",
       "       [0, 0, 0, 0, 0, 0, 0, 0, 0, 1, 0, 0, 0, 0, 0, 0, 0],\n",
       "       [0, 0, 0, 0, 0, 0, 0, 0, 0, 0, 0, 0, 0, 0, 0, 1, 0],\n",
       "       [0, 0, 0, 0, 0, 0, 0, 0, 0, 0, 0, 0, 0, 0, 1, 0, 0],\n",
       "       [0, 0, 0, 0, 0, 0, 0, 0, 0, 0, 0, 1, 0, 0, 0, 0, 0],\n",
       "       [0, 0, 0, 0, 0, 0, 0, 0, 0, 0, 0, 0, 0, 0, 0, 0, 1],\n",
       "       [1, 0, 0, 0, 0, 0, 0, 0, 0, 0, 0, 0, 0, 0, 0, 0, 0],\n",
       "       [0, 0, 0, 0, 0, 0, 0, 0, 0, 0, 0, 0, 1, 0, 0, 0, 0],\n",
       "       [0, 0, 0, 0, 0, 0, 0, 0, 1, 0, 0, 0, 0, 0, 0, 0, 0],\n",
       "       [0, 0, 0, 0, 0, 0, 1, 0, 0, 0, 0, 0, 0, 0, 0, 0, 0],\n",
       "       [0, 0, 1, 0, 0, 0, 0, 0, 0, 0, 0, 0, 0, 0, 0, 0, 0]])"
      ]
     },
     "execution_count": 280,
     "metadata": {},
     "output_type": "execute_result"
    }
   ],
   "source": [
    "from sklearn.preprocessing import LabelBinarizer\n",
    "encoder = LabelBinarizer()\n",
    "transformed_df = encoder.fit_transform(categorical_features)\n",
    "transformed_df"
   ]
  },
  {
   "cell_type": "markdown",
   "metadata": {},
   "source": [
    "# Spliting into X and Y"
   ]
  },
  {
   "cell_type": "code",
   "execution_count": 281,
   "metadata": {},
   "outputs": [],
   "source": [
    "x = df.drop(\"MAPPING_UN,C,16\", axis = 1)\n",
    "y = df[\"MAPPING_UN,C,16\"]"
   ]
  },
  {
   "cell_type": "markdown",
   "metadata": {},
   "source": [
    "# Spliting into Training and Test"
   ]
  },
  {
   "cell_type": "code",
   "execution_count": 282,
   "metadata": {},
   "outputs": [],
   "source": [
    "np.random.seed(42)\n",
    "from sklearn.model_selection import train_test_split\n",
    "x_train, x_test, y_train, y_test = train_test_split(x,\n",
    "                                                    y,\n",
    "                                                    test_size = 0.2)"
   ]
  },
  {
   "cell_type": "markdown",
   "metadata": {},
   "source": [
    "# Feature Scaling"
   ]
  },
  {
   "cell_type": "code",
   "execution_count": 283,
   "metadata": {},
   "outputs": [],
   "source": [
    "cols = x_train.columns"
   ]
  },
  {
   "cell_type": "code",
   "execution_count": 284,
   "metadata": {},
   "outputs": [],
   "source": [
    "from sklearn.preprocessing import RobustScaler\n",
    "scaler = RobustScaler()\n",
    "x_train = scaler.fit_transform(x_train)\n",
    "x_test = scaler.transform(x_test)"
   ]
  },
  {
   "cell_type": "code",
   "execution_count": 285,
   "metadata": {},
   "outputs": [],
   "source": [
    "x_train = pd.DataFrame(x_train, columns = [cols])"
   ]
  },
  {
   "cell_type": "code",
   "execution_count": 286,
   "metadata": {},
   "outputs": [],
   "source": [
    "x_test = pd.DataFrame(x_test, columns = [cols])"
   ]
  },
  {
   "cell_type": "markdown",
   "metadata": {},
   "source": [
    "# Random Forest Classifier Model"
   ]
  },
  {
   "cell_type": "code",
   "execution_count": 287,
   "metadata": {},
   "outputs": [
    {
     "data": {
      "text/plain": [
       "658"
      ]
     },
     "execution_count": 287,
     "metadata": {},
     "output_type": "execute_result"
    }
   ],
   "source": [
    "len(df)"
   ]
  },
  {
   "cell_type": "code",
   "execution_count": 288,
   "metadata": {},
   "outputs": [
    {
     "data": {
      "text/plain": [
       "0.9924242424242424"
      ]
     },
     "execution_count": 288,
     "metadata": {},
     "output_type": "execute_result"
    }
   ],
   "source": [
    "clf=    RandomForestClassifier(random_state = 0)\n",
    "#fit the model to the data\n",
    "clf.fit( x_train, y_train,)\n",
    "# evaluate the model \n",
    "clf.score( x_test,  y_test)"
   ]
  },
  {
   "cell_type": "markdown",
   "metadata": {},
   "source": [
    "# Hyperparameter Tuning \n",
    "this is done to correct the overfitting state of the model"
   ]
  },
  {
   "cell_type": "code",
   "execution_count": 289,
   "metadata": {},
   "outputs": [
    {
     "data": {
      "text/plain": [
       "{'bootstrap': True,\n",
       " 'ccp_alpha': 0.0,\n",
       " 'class_weight': None,\n",
       " 'criterion': 'gini',\n",
       " 'max_depth': None,\n",
       " 'max_features': 'auto',\n",
       " 'max_leaf_nodes': None,\n",
       " 'max_samples': None,\n",
       " 'min_impurity_decrease': 0.0,\n",
       " 'min_impurity_split': None,\n",
       " 'min_samples_leaf': 1,\n",
       " 'min_samples_split': 2,\n",
       " 'min_weight_fraction_leaf': 0.0,\n",
       " 'n_estimators': 100,\n",
       " 'n_jobs': None,\n",
       " 'oob_score': False,\n",
       " 'random_state': 0,\n",
       " 'verbose': 0,\n",
       " 'warm_start': False}"
      ]
     },
     "execution_count": 289,
     "metadata": {},
     "output_type": "execute_result"
    }
   ],
   "source": [
    "clf.get_params()"
   ]
  },
  {
   "cell_type": "code",
   "execution_count": 290,
   "metadata": {},
   "outputs": [],
   "source": [
    "param_grid = {\n",
    "    'n_estimators': [200, 500],\n",
    "    'max_leaf_nodes': [16,30],\n",
    "}"
   ]
  },
  {
   "cell_type": "code",
   "execution_count": 291,
   "metadata": {},
   "outputs": [
    {
     "data": {
      "text/plain": [
       "GridSearchCV(cv=5, estimator=RandomForestClassifier(random_state=0),\n",
       "             param_grid={'max_leaf_nodes': [16, 30],\n",
       "                         'n_estimators': [200, 500]})"
      ]
     },
     "execution_count": 291,
     "metadata": {},
     "output_type": "execute_result"
    }
   ],
   "source": [
    "cv_clf = GridSearchCV(estimator = clf, param_grid = param_grid, cv = 5)\n",
    "cv_clf.fit(x_train, y_train)"
   ]
  },
  {
   "cell_type": "code",
   "execution_count": 292,
   "metadata": {},
   "outputs": [
    {
     "data": {
      "text/plain": [
       "{'max_leaf_nodes': 30, 'n_estimators': 200}"
      ]
     },
     "execution_count": 292,
     "metadata": {},
     "output_type": "execute_result"
    }
   ],
   "source": [
    "cv_clf.best_params_"
   ]
  },
  {
   "cell_type": "code",
   "execution_count": 293,
   "metadata": {},
   "outputs": [],
   "source": [
    "clf1 = RandomForestClassifier(max_leaf_nodes = 30,  n_estimators = 200)"
   ]
  },
  {
   "cell_type": "code",
   "execution_count": 294,
   "metadata": {},
   "outputs": [
    {
     "data": {
      "text/plain": [
       "RandomForestClassifier(max_leaf_nodes=30, n_estimators=200)"
      ]
     },
     "execution_count": 294,
     "metadata": {},
     "output_type": "execute_result"
    }
   ],
   "source": [
    "clf1.fit(x_train, y_train)"
   ]
  },
  {
   "cell_type": "code",
   "execution_count": 295,
   "metadata": {},
   "outputs": [
    {
     "data": {
      "text/plain": [
       "0.9621212121212122"
      ]
     },
     "execution_count": 295,
     "metadata": {},
     "output_type": "execute_result"
    }
   ],
   "source": [
    "clf1.score( x_test,  y_test)"
   ]
  },
  {
   "cell_type": "code",
   "execution_count": 296,
   "metadata": {},
   "outputs": [
    {
     "data": {
      "text/plain": [
       "array([26, 53, 43, 54, 49, 57,  1,  1, 35, 56, 43, 35, 43, 35, 53, 57,  4,\n",
       "       57, 57, 54, 57, 32, 32, 12,  4,  1, 56, 44, 43, 19,  4,  7, 20, 35,\n",
       "       29, 54, 52, 57, 44, 19, 57, 48, 43, 49,  7, 52, 50,  4, 35, 49, 35,\n",
       "       56, 43,  6, 57,  4, 35,  2,  4, 15, 15, 32, 57, 31,  1, 44, 54, 41,\n",
       "       57,  7,  2,  4, 54, 56, 22, 57, 25, 32, 27, 57, 51, 49, 43, 49, 35,\n",
       "       35, 51, 56, 52,  2, 54, 57,  6,  2, 12, 49, 20, 31,  5, 46, 43,  1,\n",
       "        2,  7, 43, 31, 56, 51, 32, 57, 44, 38, 32, 19, 57, 57, 35, 12,  2,\n",
       "       56, 57,  1, 29, 27, 20, 43,  4, 35, 12, 32,  4, 43], dtype=int64)"
      ]
     },
     "execution_count": 296,
     "metadata": {},
     "output_type": "execute_result"
    }
   ],
   "source": [
    "y_pred =clf1.predict(x_test)\n",
    "y_pred"
   ]
  },
  {
   "cell_type": "markdown",
   "metadata": {},
   "source": [
    "# Accuracy"
   ]
  },
  {
   "cell_type": "code",
   "execution_count": 297,
   "metadata": {},
   "outputs": [
    {
     "data": {
      "text/plain": [
       "array([0.93396226, 0.97142857, 0.96190476, 0.96190476, 0.97142857])"
      ]
     },
     "execution_count": 297,
     "metadata": {},
     "output_type": "execute_result"
    }
   ],
   "source": [
    "cross_val_score(clf1, x_train, y_train, cv = 5, scoring = \"accuracy\")"
   ]
  },
  {
   "cell_type": "markdown",
   "metadata": {},
   "source": [
    "# Classification Report"
   ]
  },
  {
   "cell_type": "code",
   "execution_count": 298,
   "metadata": {},
   "outputs": [
    {
     "name": "stdout",
     "output_type": "stream",
     "text": [
      "              precision    recall  f1-score   support\n",
      "\n",
      "           1       1.00      1.00      1.00         6\n",
      "           2       1.00      1.00      1.00         6\n",
      "           4       1.00      1.00      1.00         9\n",
      "           5       1.00      1.00      1.00         1\n",
      "           6       1.00      1.00      1.00         2\n",
      "           7       1.00      1.00      1.00         4\n",
      "           9       0.00      0.00      0.00         2\n",
      "          10       0.00      0.00      0.00         2\n",
      "          12       0.00      0.00      0.00         0\n",
      "          15       1.00      1.00      1.00         2\n",
      "          19       1.00      1.00      1.00         3\n",
      "          20       1.00      1.00      1.00         3\n",
      "          22       1.00      1.00      1.00         1\n",
      "          25       1.00      1.00      1.00         1\n",
      "          26       1.00      1.00      1.00         1\n",
      "          27       1.00      1.00      1.00         2\n",
      "          29       1.00      1.00      1.00         2\n",
      "          31       1.00      1.00      1.00         3\n",
      "          32       1.00      1.00      1.00         7\n",
      "          35       1.00      1.00      1.00        11\n",
      "          38       1.00      1.00      1.00         1\n",
      "          41       1.00      1.00      1.00         1\n",
      "          43       1.00      1.00      1.00        11\n",
      "          44       1.00      1.00      1.00         4\n",
      "          45       0.00      0.00      0.00         1\n",
      "          46       1.00      1.00      1.00         1\n",
      "          48       0.00      0.00      0.00         0\n",
      "          49       1.00      1.00      1.00         6\n",
      "          50       1.00      1.00      1.00         1\n",
      "          51       1.00      1.00      1.00         3\n",
      "          52       1.00      1.00      1.00         3\n",
      "          53       1.00      1.00      1.00         2\n",
      "          54       1.00      1.00      1.00         6\n",
      "          56       1.00      1.00      1.00         7\n",
      "          57       1.00      1.00      1.00        17\n",
      "\n",
      "    accuracy                           0.96       132\n",
      "   macro avg       0.86      0.86      0.86       132\n",
      "weighted avg       0.96      0.96      0.96       132\n",
      "\n"
     ]
    }
   ],
   "source": [
    "print(classification_report(y_test, y_pred))"
   ]
  },
  {
   "cell_type": "markdown",
   "metadata": {},
   "source": [
    "# Confusion Matrix"
   ]
  },
  {
   "cell_type": "code",
   "execution_count": 299,
   "metadata": {},
   "outputs": [],
   "source": [
    "y_prob = cross_val_predict(clf1, x_train, y_train, cv = 3)"
   ]
  },
  {
   "cell_type": "code",
   "execution_count": 300,
   "metadata": {},
   "outputs": [
    {
     "data": {
      "text/plain": [
       "array([[ 8,  0,  0, ...,  0,  0,  0],\n",
       "       [ 0, 17,  0, ...,  0,  0,  0],\n",
       "       [ 0,  0, 13, ...,  0,  0,  0],\n",
       "       ...,\n",
       "       [ 0,  0,  0, ...,  0,  0,  0],\n",
       "       [ 0,  0,  0, ...,  0, 22,  0],\n",
       "       [ 0,  0,  0, ...,  0,  0, 72]], dtype=int64)"
      ]
     },
     "execution_count": 300,
     "metadata": {},
     "output_type": "execute_result"
    }
   ],
   "source": [
    "conf_mx =  confusion_matrix(y_train, y_prob)\n",
    "conf_mx"
   ]
  },
  {
   "cell_type": "code",
   "execution_count": 301,
   "metadata": {},
   "outputs": [
    {
     "data": {
      "image/png": "[encoded data removed]",
      "text/plain": [
       "<Figure size 288x288 with 1 Axes>"
      ]
     },
     "metadata": {
      "needs_background": "light"
     },
     "output_type": "display_data"
    }
   ],
   "source": [
    "plt.matshow(conf_mx, cmap = plt.cm.gray)\n",
    "plt.show()"
   ]
  },
  {
   "cell_type": "code",
   "execution_count": 302,
   "metadata": {},
   "outputs": [],
   "source": [
    "row_sums = conf_mx.sum(axis = 1, keepdims = True)\n",
    "norm_conf_mx = conf_mx / row_sums"
   ]
  },
  {
   "cell_type": "code",
   "execution_count": 303,
   "metadata": {},
   "outputs": [
    {
     "data": {
      "image/png": "[encoded data removed]",
      "text/plain": [
       "<Figure size 288x288 with 1 Axes>"
      ]
     },
     "metadata": {
      "needs_background": "light"
     },
     "output_type": "display_data"
    }
   ],
   "source": [
    "np.fill_diagonal(norm_conf_mx, 0)\n",
    "plt.matshow(norm_conf_mx, cmap = plt.cm.gray)\n",
    "plt.show()"
   ]
  },
  {
   "cell_type": "markdown",
   "metadata": {},
   "source": [
    "# Feature Importance"
   ]
  },
  {
   "cell_type": "code",
   "execution_count": 304,
   "metadata": {},
   "outputs": [],
   "source": [
    "import seaborn as sns"
   ]
  },
  {
   "cell_type": "code",
   "execution_count": 305,
   "metadata": {},
   "outputs": [
    {
     "data": {
      "text/plain": [
       "DISTRIBUTI,C,50     0.192497\n",
       "MAJOR_CROP,C,120    0.149365\n",
       "SOIL_PH,C,30        0.121312\n",
       "PERCENTAGE,C,50     0.121277\n",
       "PH_DESCRIP,C,50     0.054713\n",
       "SLOPE,C,30          0.050363\n",
       "GEOLOGY,C,80        0.049982\n",
       "VEGETATION,C,120    0.047224\n",
       "SOIL_TEXTU,C,50     0.043250\n",
       "DRAINAGE,C,70       0.041989\n",
       "SUITABILIT,C,70     0.037149\n",
       "Depth,C,50          0.027902\n",
       "SOIL_CLASS,C,50     0.025092\n",
       "ECOLOGICAL,C,50     0.018134\n",
       "ID,N,8,0            0.012141\n",
       "SOIL_CLA_1,C,50     0.007610\n",
       "dtype: float64"
      ]
     },
     "execution_count": 305,
     "metadata": {},
     "output_type": "execute_result"
    }
   ],
   "source": [
    "feature_scores = pd.Series(clf1.feature_importances_, index = x_train.columns).sort_values(ascending = False)\n",
    "feature_scores"
   ]
  },
  {
   "cell_type": "code",
   "execution_count": 306,
   "metadata": {},
   "outputs": [
    {
     "data": {
      "image/png": "[encoded data removed]",
      "text/plain": [
       "<Figure size 1080x1080 with 1 Axes>"
      ]
     },
     "metadata": {
      "needs_background": "light"
     },
     "output_type": "display_data"
    }
   ],
   "source": [
    "f, ax = plt.subplots(figsize = (15, 15))\n",
    "ax = sns.barplot(x = feature_scores, y = feature_scores, data = df)\n",
    "ax.set_title('Visualize feature scores of the features')\n",
    "ax.set_yticklabels(feature_scores.index)\n",
    "ax.set_xlabel(\"Feature importance score\")\n",
    "ax.set_ylabel(\"Features\")\n",
    "plt.show()"
   ]
  },
  {
   "cell_type": "markdown",
   "metadata": {},
   "source": [
    "# Result and Conclusion"
   ]
  },
  {
   "cell_type": "markdown",
   "metadata": {},
   "source": [
    "\n",
    "in this project i build a Random Forest Classifier to predict the soil properties for some given locations within south west region.\n",
    "the model performed prety well with the accuracy score above 90%, confusion matrix and classification report are another tool to visualize the model performance. they yield good performance.\n",
    "i used Random Forest Classifier to find the important features for the project which are seen in the bar plot above with  (SOIL_TEXTU,C,50, VEGETATION,C,120, GEOLOGY,C,80, SLOPE,C,30,  PH_DESCRIP,C,50) which are soil texture, vegetation cover, geology, slope, ph description respectively according to the data pdf."
   ]
  }
 ],
 "metadata": {
  "kernelspec": {
   "display_name": "Python 3",
   "language": "python",
   "name": "python3"
  },
  "language_info": {
   "codemirror_mode": {
    "name": "ipython",
    "version": 3
   },
   "file_extension": ".py",
   "mimetype": "text/x-python",
   "name": "python",
   "nbconvert_exporter": "python",
   "pygments_lexer": "ipython3",
   "version": "3.8.5"
  }
 },
 "nbformat": 4,
 "nbformat_minor": 4
}
